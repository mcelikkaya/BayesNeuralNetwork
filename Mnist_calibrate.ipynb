{
  "nbformat": 4,
  "nbformat_minor": 0,
  "metadata": {
    "colab": {
      "name": "Mnist_calibrate.ipynb",
      "provenance": []
    },
    "kernelspec": {
      "name": "python3",
      "display_name": "Python 3"
    }
  },
  "cells": [
    {
      "cell_type": "code",
      "metadata": {
        "id": "PgNt2B5KKQQ2",
        "colab_type": "code",
        "colab": {}
      },
      "source": [
        "#In this notebook i try Temperature Scaling.\n",
        "#Load mnist , dont use softmax on last layer\n",
        "#Find a divider that yields lowest classification erro"
      ],
      "execution_count": 1,
      "outputs": []
    },
    {
      "cell_type": "code",
      "metadata": {
        "id": "sVNxyhn0TsZo",
        "colab_type": "code",
        "colab": {}
      },
      "source": [
        "import tensorflow as tf\n",
        "import tensorflow_probability as tfp\n",
        "from tensorflow import keras\n",
        "import pandas as pd"
      ],
      "execution_count": 2,
      "outputs": []
    },
    {
      "cell_type": "code",
      "metadata": {
        "id": "w5Oj9yctKR6l",
        "colab_type": "code",
        "colab": {}
      },
      "source": [
        "#load data\n",
        "mnist = tf.keras.datasets.mnist.load_data(path=\"mnist.npz\")"
      ],
      "execution_count": 3,
      "outputs": []
    },
    {
      "cell_type": "code",
      "metadata": {
        "id": "AYkuwUUZKUnq",
        "colab_type": "code",
        "colab": {
          "base_uri": "https://localhost:8080/",
          "height": 92
        },
        "outputId": "9680ee9f-755a-4392-f6dd-d3123f6d896b"
      },
      "source": [
        "print(mnist[0][0].shape)\n",
        "print(mnist[0][1].shape)\n",
        "print(mnist[1][0].shape)\n",
        "print(mnist[1][1].shape)"
      ],
      "execution_count": 4,
      "outputs": [
        {
          "output_type": "stream",
          "text": [
            "(60000, 28, 28)\n",
            "(60000,)\n",
            "(10000, 28, 28)\n",
            "(10000,)\n"
          ],
          "name": "stdout"
        }
      ]
    },
    {
      "cell_type": "code",
      "metadata": {
        "id": "-_SJyUbNK2SY",
        "colab_type": "code",
        "colab": {
          "base_uri": "https://localhost:8080/",
          "height": 73
        },
        "outputId": "6dfbefbf-d0f4-46dd-975c-e6e621811157"
      },
      "source": [
        "#will not use cnn , will just use MLP\n",
        "X = mnist[0][0].reshape(mnist[0][0].shape[0],28*28)\n",
        "X_test = mnist[1][0].reshape(mnist[1][0].shape[0],28*28)\n",
        "print(X.shape)\n",
        "print(X_test.shape)\n",
        "Y = mnist[0][1]\n",
        "print(Y.shape)"
      ],
      "execution_count": 5,
      "outputs": [
        {
          "output_type": "stream",
          "text": [
            "(60000, 784)\n",
            "(10000, 784)\n",
            "(60000,)\n"
          ],
          "name": "stdout"
        }
      ]
    },
    {
      "cell_type": "code",
      "metadata": {
        "id": "5fkLS4wUKb8k",
        "colab_type": "code",
        "colab": {}
      },
      "source": [
        "# Model \n",
        "input_layer = keras.layers.Input(shape=(28*28,))\n",
        "dense_1 = keras.layers.Dense(128, activation='relu')(input_layer)\n",
        "dense_2 = keras.layers.Dense(128, activation='relu')(dense_1)\n",
        "logits = keras.layers.Dense(10)(dense_2) # Here 3 represents number of classes\n",
        "model = keras.Model(inputs=input_layer, outputs=logits)"
      ],
      "execution_count": 6,
      "outputs": []
    },
    {
      "cell_type": "code",
      "metadata": {
        "id": "yz_J5ddLLU_9",
        "colab_type": "code",
        "colab": {
          "base_uri": "https://localhost:8080/",
          "height": 316
        },
        "outputId": "8b6356cd-80c9-42d2-abb2-81f21aedee66"
      },
      "source": [
        "model.summary()"
      ],
      "execution_count": 7,
      "outputs": [
        {
          "output_type": "stream",
          "text": [
            "Model: \"functional_1\"\n",
            "_________________________________________________________________\n",
            "Layer (type)                 Output Shape              Param #   \n",
            "=================================================================\n",
            "input_1 (InputLayer)         [(None, 784)]             0         \n",
            "_________________________________________________________________\n",
            "dense (Dense)                (None, 128)               100480    \n",
            "_________________________________________________________________\n",
            "dense_1 (Dense)              (None, 128)               16512     \n",
            "_________________________________________________________________\n",
            "dense_2 (Dense)              (None, 10)                1290      \n",
            "=================================================================\n",
            "Total params: 118,282\n",
            "Trainable params: 118,282\n",
            "Non-trainable params: 0\n",
            "_________________________________________________________________\n"
          ],
          "name": "stdout"
        }
      ]
    },
    {
      "cell_type": "code",
      "metadata": {
        "id": "E4tF1zHILZlD",
        "colab_type": "code",
        "colab": {}
      },
      "source": [
        "# Compile \n",
        "custom_loss = keras.losses.CategoricalCrossentropy(from_logits=True)\n",
        "model.compile(optimizer='adam',\n",
        "              loss=custom_loss,\n",
        "              metrics=['accuracy']\n",
        "             )"
      ],
      "execution_count": 8,
      "outputs": []
    },
    {
      "cell_type": "code",
      "metadata": {
        "id": "r0O3zDmqLb16",
        "colab_type": "code",
        "colab": {
          "base_uri": "https://localhost:8080/",
          "height": 204
        },
        "outputId": "a7fff18a-627f-4607-ae84-0d6db790ecce"
      },
      "source": [
        "# Fit \n",
        "history = model.fit(X, keras.utils.to_categorical(Y),\n",
        "                    epochs=5,\n",
        "                    batch_size=8)"
      ],
      "execution_count": 9,
      "outputs": [
        {
          "output_type": "stream",
          "text": [
            "Epoch 1/5\n",
            "7500/7500 [==============================] - 11s 2ms/step - loss: 1.1775 - accuracy: 0.8778\n",
            "Epoch 2/5\n",
            "7500/7500 [==============================] - 11s 1ms/step - loss: 0.2706 - accuracy: 0.9307\n",
            "Epoch 3/5\n",
            "7500/7500 [==============================] - 11s 1ms/step - loss: 0.2132 - accuracy: 0.9485\n",
            "Epoch 4/5\n",
            "7500/7500 [==============================] - 11s 1ms/step - loss: 0.1942 - accuracy: 0.9538\n",
            "Epoch 5/5\n",
            "7500/7500 [==============================] - 11s 1ms/step - loss: 0.1830 - accuracy: 0.9571\n"
          ],
          "name": "stdout"
        }
      ]
    },
    {
      "cell_type": "code",
      "metadata": {
        "id": "WXUuLz9LLpu2",
        "colab_type": "code",
        "colab": {}
      },
      "source": [
        "# Logit prediction\n",
        "y_pred = model.predict(X)"
      ],
      "execution_count": 10,
      "outputs": []
    },
    {
      "cell_type": "code",
      "metadata": {
        "id": "aB51XOoALsPb",
        "colab_type": "code",
        "colab": {
          "base_uri": "https://localhost:8080/",
          "height": 73
        },
        "outputId": "2689971e-152a-4618-ba1f-fad88b24dc5f"
      },
      "source": [
        "#just bare final layer numbers, not softmax applied\n",
        "y_pred[0]"
      ],
      "execution_count": 11,
      "outputs": [
        {
          "output_type": "execute_result",
          "data": {
            "text/plain": [
              "array([  -6.7536936,  -26.910238 ,  -60.678905 ,   46.090233 ,\n",
              "       -139.72382  ,   66.62791  ,    3.4204516,    2.7258708,\n",
              "         36.280197 ,   36.544228 ], dtype=float32)"
            ]
          },
          "metadata": {
            "tags": []
          },
          "execution_count": 11
        }
      ]
    },
    {
      "cell_type": "code",
      "metadata": {
        "id": "DsigskHILttz",
        "colab_type": "code",
        "colab": {}
      },
      "source": [
        "# ECE result before calibration\n",
        "num_bins = 50\n",
        "labels_true = tf.convert_to_tensor(Y, dtype=tf.int32, name='labels_true')\n",
        "logits = tf.convert_to_tensor(y_pred, dtype=tf.float32, name='logits')"
      ],
      "execution_count": 12,
      "outputs": []
    },
    {
      "cell_type": "code",
      "metadata": {
        "id": "ebXftCOSLvTO",
        "colab_type": "code",
        "colab": {
          "base_uri": "https://localhost:8080/",
          "height": 36
        },
        "outputId": "b8a8801e-ad34-42f6-a57c-b18a23157b21"
      },
      "source": [
        "labels_true"
      ],
      "execution_count": 13,
      "outputs": [
        {
          "output_type": "execute_result",
          "data": {
            "text/plain": [
              "<tf.Tensor: shape=(60000,), dtype=int32, numpy=array([5, 0, 4, ..., 5, 6, 8], dtype=int32)>"
            ]
          },
          "metadata": {
            "tags": []
          },
          "execution_count": 13
        }
      ]
    },
    {
      "cell_type": "code",
      "metadata": {
        "id": "IHmhmqVxLxnY",
        "colab_type": "code",
        "colab": {
          "base_uri": "https://localhost:8080/",
          "height": 92
        },
        "outputId": "1efffbfa-dc80-421f-abd5-3678b4d3f4b5"
      },
      "source": [
        "logits[0]"
      ],
      "execution_count": 14,
      "outputs": [
        {
          "output_type": "execute_result",
          "data": {
            "text/plain": [
              "<tf.Tensor: shape=(10,), dtype=float32, numpy=\n",
              "array([  -6.7536936,  -26.910238 ,  -60.678905 ,   46.090233 ,\n",
              "       -139.72382  ,   66.62791  ,    3.4204516,    2.7258708,\n",
              "         36.280197 ,   36.544228 ], dtype=float32)>"
            ]
          },
          "metadata": {
            "tags": []
          },
          "execution_count": 14
        }
      ]
    },
    {
      "cell_type": "code",
      "metadata": {
        "id": "9vXb8t3uLy1J",
        "colab_type": "code",
        "colab": {
          "base_uri": "https://localhost:8080/",
          "height": 36
        },
        "outputId": "7dbe42fc-45d8-419c-adcd-69cab5cce576"
      },
      "source": [
        "tfp.stats.expected_calibration_error(num_bins=num_bins, \n",
        "                                     logits=logits, \n",
        "                                     labels_true=labels_true)"
      ],
      "execution_count": 15,
      "outputs": [
        {
          "output_type": "execute_result",
          "data": {
            "text/plain": [
              "<tf.Tensor: shape=(), dtype=float32, numpy=0.009657455>"
            ]
          },
          "metadata": {
            "tags": []
          },
          "execution_count": 15
        }
      ]
    },
    {
      "cell_type": "code",
      "metadata": {
        "id": "txJ7H3qGL1qI",
        "colab_type": "code",
        "colab": {
          "base_uri": "https://localhost:8080/",
          "height": 54
        },
        "outputId": "6a7f07b1-60c0-4bf5-84d0-677aeca5ad4b"
      },
      "source": [
        "\n",
        "# Temperature Scaling\n",
        "\n",
        "temp = tf.Variable(initial_value=1.0, trainable=True, dtype=tf.float32) \n",
        "\n",
        "def compute_loss():\n",
        "    y_pred_model_w_temp = tf.math.divide(y_pred, temp)\n",
        "    loss = tf.reduce_mean(tf.nn.softmax_cross_entropy_with_logits(\\\n",
        "                                tf.convert_to_tensor(keras.utils.to_categorical(Y)), y_pred_model_w_temp))\n",
        "    return loss\n",
        "\n",
        "optimizer = tf.optimizers.Adam(learning_rate=0.01)\n",
        "\n",
        "print('Temperature Initial value: ', temp.numpy())\n",
        "\n",
        "for i in range(300):\n",
        "    opts = optimizer.minimize(compute_loss, var_list=[temp])\n",
        "\n",
        "\n",
        "print('Temperature Final value: ',temp.numpy())\n"
      ],
      "execution_count": 16,
      "outputs": [
        {
          "output_type": "stream",
          "text": [
            "Temperature Initial value:  1.0\n",
            "Temperature Final value:  1.2383403\n"
          ],
          "name": "stdout"
        }
      ]
    },
    {
      "cell_type": "code",
      "metadata": {
        "id": "PjR4XjCBygtd",
        "colab_type": "code",
        "colab": {}
      },
      "source": [
        ""
      ],
      "execution_count": 16,
      "outputs": []
    },
    {
      "cell_type": "code",
      "metadata": {
        "id": "yeeWDAed1F_c",
        "colab_type": "code",
        "colab": {}
      },
      "source": [
        ""
      ],
      "execution_count": 16,
      "outputs": []
    },
    {
      "cell_type": "code",
      "metadata": {
        "id": "x8C25zMy199Q",
        "colab_type": "code",
        "colab": {
          "base_uri": "https://localhost:8080/",
          "height": 54
        },
        "outputId": "b7dd384a-1795-4309-f306-ce3e539416b5"
      },
      "source": [
        "#when values coincide with indexes ( selected indexes have highest position)\n",
        "test_labels = [[0.0,0.0,1.0],[0.0,1.0,0.0],[1.0,0.0,0.0]]\n",
        "test_points = [[7.0,8.0,9.0],[3.0,6.0,5.0],[10.0,4.0,8.0]]\n",
        "cross_ent_with_logits = tf.nn.softmax_cross_entropy_with_logits(test_labels,test_points)\n",
        "print(\"cross_ent_with_logits \",cross_ent_with_logits)\n",
        "loss = tf.reduce_mean( cross_ent_with_logits ) \n",
        "print(\"loss \",loss)\n",
        "#loss is 0.29524234"
      ],
      "execution_count": 17,
      "outputs": [
        {
          "output_type": "stream",
          "text": [
            "cross_ent_with_logits  tf.Tensor([0.40760595 0.34901217 0.12910892], shape=(3,), dtype=float32)\n",
            "loss  tf.Tensor(0.29524234, shape=(), dtype=float32)\n"
          ],
          "name": "stdout"
        }
      ]
    },
    {
      "cell_type": "code",
      "metadata": {
        "id": "4_wT9hoD6vmf",
        "colab_type": "code",
        "colab": {
          "base_uri": "https://localhost:8080/",
          "height": 54
        },
        "outputId": "b948b316-2fa6-415b-fab0-95d2d50d310a"
      },
      "source": [
        "#when values NOT coincide with indexes ( selected indexes have highest position)\n",
        "#as seen loss is much more when indexes of real labels do not have highest point\n",
        "test_labels = [[0.0,0.0,1.0],[0.0,1.0,0.0],[1.0,0.0,0.0]]\n",
        "test_points = [[17.0,8.0,9.0],[13.0,6.0,5.0],[10.0,14.0,8.0]]\n",
        "cross_ent_with_logits = tf.nn.softmax_cross_entropy_with_logits(test_labels,test_points)\n",
        "print(\"cross_ent_with_logits \",cross_ent_with_logits)\n",
        "loss = tf.reduce_mean( cross_ent_with_logits ) \n",
        "print(\"loss \",loss)\n",
        "#loss is 6.3407617"
      ],
      "execution_count": 18,
      "outputs": [
        {
          "output_type": "stream",
          "text": [
            "cross_ent_with_logits  tf.Tensor([8.000459  7.0012465 4.0205812], shape=(3,), dtype=float32)\n",
            "loss  tf.Tensor(6.3407617, shape=(), dtype=float32)\n"
          ],
          "name": "stdout"
        }
      ]
    },
    {
      "cell_type": "code",
      "metadata": {
        "id": "1zD9HgJJ1Gch",
        "colab_type": "code",
        "colab": {}
      },
      "source": [
        "\n"
      ],
      "execution_count": 18,
      "outputs": []
    },
    {
      "cell_type": "code",
      "metadata": {
        "id": "g4XvqRCNMs4K",
        "colab_type": "code",
        "colab": {
          "base_uri": "https://localhost:8080/",
          "height": 36
        },
        "outputId": "c85fcdab-cefd-4600-865d-1613856965be"
      },
      "source": [
        "# ECE result after calibration\n",
        "y_pred_model_w_temp = tf.math.divide(y_pred, temp)\n",
        "num_bins = 50\n",
        "labels_true = tf.convert_to_tensor(Y, dtype=tf.int32, name='labels_true')\n",
        "logits = tf.convert_to_tensor(y_pred_model_w_temp, dtype=tf.float32, name='logits')\n",
        "\n",
        "tfp.stats.expected_calibration_error(num_bins=num_bins, \n",
        "                                     logits=logits, \n",
        "                                     labels_true=labels_true)"
      ],
      "execution_count": 19,
      "outputs": [
        {
          "output_type": "execute_result",
          "data": {
            "text/plain": [
              "<tf.Tensor: shape=(), dtype=float32, numpy=0.010399372>"
            ]
          },
          "metadata": {
            "tags": []
          },
          "execution_count": 19
        }
      ]
    },
    {
      "cell_type": "code",
      "metadata": {
        "id": "sGiOFs80MxO8",
        "colab_type": "code",
        "colab": {
          "base_uri": "https://localhost:8080/",
          "height": 110
        },
        "outputId": "b25f0972-8ed0-4f6b-fa2d-b8302bdc840e"
      },
      "source": [
        "temperature_scaled =  y_pred_model_w_temp[0]\n",
        "actual_prediction = y_pred[0]\n",
        "print(\"temperature_scaled\",temperature_scaled)\n",
        "print(\"actual_prediction\",actual_prediction)"
      ],
      "execution_count": 20,
      "outputs": [
        {
          "output_type": "stream",
          "text": [
            "temperature_scaled tf.Tensor(\n",
            "[  -5.453827   -21.730892   -49.000187    37.21936   -112.83152\n",
            "   53.8042       2.762126     2.2012293   29.297438    29.51065  ], shape=(10,), dtype=float32)\n",
            "actual_prediction [  -6.7536936  -26.910238   -60.678905    46.090233  -139.72382\n",
            "   66.62791      3.4204516    2.7258708   36.280197    36.544228 ]\n"
          ],
          "name": "stdout"
        }
      ]
    },
    {
      "cell_type": "code",
      "metadata": {
        "id": "5xaUdl_kNaz3",
        "colab_type": "code",
        "colab": {
          "base_uri": "https://localhost:8080/",
          "height": 73
        },
        "outputId": "59c3407a-da68-4bca-89e9-0bd6ee8c16c0"
      },
      "source": [
        "temperature_multiplied = temperature_scaled * temp.numpy()\n",
        "#compare numbers with above numbers\n",
        "print( temperature_multiplied )"
      ],
      "execution_count": 21,
      "outputs": [
        {
          "output_type": "stream",
          "text": [
            "tf.Tensor(\n",
            "[  -6.7536936  -26.910238   -60.678905    46.090233  -139.72382\n",
            "   66.62791      3.4204519    2.7258708   36.280197    36.544228 ], shape=(10,), dtype=float32)\n"
          ],
          "name": "stdout"
        }
      ]
    },
    {
      "cell_type": "code",
      "metadata": {
        "id": "trk0EUOkNisY",
        "colab_type": "code",
        "colab": {}
      },
      "source": [
        ""
      ],
      "execution_count": 21,
      "outputs": []
    },
    {
      "cell_type": "code",
      "metadata": {
        "id": "LW4gpwsUNr6k",
        "colab_type": "code",
        "colab": {}
      },
      "source": [
        ""
      ],
      "execution_count": 21,
      "outputs": []
    }
  ]
}