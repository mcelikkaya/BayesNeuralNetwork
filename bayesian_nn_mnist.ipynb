{
 "cells": [
  {
   "cell_type": "markdown",
   "metadata": {},
   "source": [
    "In this notebook I applied Bayesian Neural Network(BNN) to mnist problem.\n",
    "I used the dropout approach.\n",
    "Problem with Neural network classification is when we have an answer,\n",
    "we can't use output probability ,because it is an exaggrated number because of softmax.\n",
    "\n",
    "BNN solves this by making a permuated network(with dropout regularization)\n",
    "and everytime makes a different prediction.\n",
    "Say you made a 100 prediction for an image,\n",
    "you find probabilities for 10 different class.\n",
    "We check distribution of these probabilities if for any of them quantile at 0.5 is \n",
    "more than 0.5.(our probabilities are around 0.5 so the mean is around 0.5)\n"
   ]
  },
  {
   "cell_type": "code",
   "execution_count": 1,
   "metadata": {},
   "outputs": [
    {
     "name": "stderr",
     "output_type": "stream",
     "text": [
      "Using TensorFlow backend.\n"
     ]
    }
   ],
   "source": [
    "import numpy as np \n",
    "import pandas as pd\n",
    "import matplotlib.pyplot as plt\n",
    "from tqdm import tqdm\n",
    "\n",
    "import tensorflow as tf\n",
    "from tensorflow.keras.preprocessing.image import ImageDataGenerator\n",
    "from tensorflow.keras.models import *\n",
    "from tensorflow.keras.layers import *\n",
    "from tensorflow.keras.callbacks import *\n",
    "from tensorflow.keras.optimizers import *\n",
    "from tensorflow.keras.utils import *\n",
    "from tensorflow.keras import backend as K\n",
    "\n",
    "import cv2\n",
    "from PIL import Image\n",
    "import random\n",
    "from pathlib import Path\n",
    "import os\n",
    "\n",
    "from sklearn.model_selection import train_test_split\n",
    "from sklearn.metrics import classification_report, accuracy_score, confusion_matrix\n",
    "\n",
    "from  keras.utils import np_utils\n",
    "from keras.datasets import mnist"
   ]
  },
  {
   "cell_type": "code",
   "execution_count": 2,
   "metadata": {},
   "outputs": [],
   "source": [
    "(x_train, y_train), (x_test, y_test) = tf.keras.datasets.mnist.load_data()\n"
   ]
  },
  {
   "cell_type": "code",
   "execution_count": 3,
   "metadata": {},
   "outputs": [
    {
     "name": "stdout",
     "output_type": "stream",
     "text": [
      "x_train  (60000, 28, 28)\n"
     ]
    }
   ],
   "source": [
    "print(\"x_train \",x_train.shape)\n",
    "map_labels = {0: '0', 1: '1', 2: '2', 3: '3', 4: '4', 5: '5', 6: '6', 7: '7', 8: '8', 9: '9'}"
   ]
  },
  {
   "cell_type": "code",
   "execution_count": 4,
   "metadata": {},
   "outputs": [
    {
     "name": "stdout",
     "output_type": "stream",
     "text": [
      "x_train   :  (48000, 28, 28)\n",
      "y_train   :  (48000,)\n",
      "x_val      :  (12000, 28, 28)\n",
      "y_val      :  (12000,)\n",
      "x_test    :  (10000, 28, 28)\n",
      "y_test    :  (10000,)\n"
     ]
    }
   ],
   "source": [
    "(_x_train_val, _y_train_val), (_x_test, _y_test) = mnist.load_data()\n",
    "_x_train, _x_val, _y_train, _y_val = train_test_split(_x_train_val, _y_train_val, test_size=0.2)\n",
    "\n",
    "print(\"x_train   : \", _x_train.shape) # x_train   :  (48000, 28, 28)\n",
    "print(\"y_train   : \", _y_train.shape) # y_train   :  (48000,)\n",
    "print(\"x_val      : \", _x_val.shape) # x_val      :  (12000, 28, 28)\n",
    "print(\"y_val      : \", _y_val.shape) # y_val      :  (12000,)\n",
    "print(\"x_test    : \", _x_test.shape) # x_test    :  (10000, 28, 28)\n",
    "print(\"y_test    : \", _y_test.shape) # y_test    :  (10000,)\n"
   ]
  },
  {
   "cell_type": "code",
   "execution_count": 5,
   "metadata": {},
   "outputs": [
    {
     "data": {
      "text/plain": [
       "<matplotlib.image.AxesImage at 0x1e29f984fd0>"
      ]
     },
     "execution_count": 5,
     "metadata": {},
     "output_type": "execute_result"
    },
    {
     "data": {
      "image/png": "[encoded data removed]",
      "text/plain": [
       "<Figure size 432x288 with 1 Axes>"
      ]
     },
     "metadata": {
      "needs_background": "light"
     },
     "output_type": "display_data"
    }
   ],
   "source": [
    "def get_sample(image_no):\n",
    "    data = [(x,t) for x, t in zip(_x_train, _y_train) if t == image_no]\n",
    "    x, y = data[0]\n",
    "    return x,y\n",
    "img_no = 2\n",
    "img_data,img_label = get_sample(img_no)\n",
    "plt.title(str(img_no))\n",
    "plt.imshow(img_data,cmap=\"gray\")"
   ]
  },
  {
   "cell_type": "code",
   "execution_count": 6,
   "metadata": {},
   "outputs": [
    {
     "data": {
      "image/png": "[encoded data removed]",
      "text/plain": [
       "<Figure size 720x720 with 10 Axes>"
      ]
     },
     "metadata": {
      "needs_background": "light"
     },
     "output_type": "display_data"
    }
   ],
   "source": [
    "plt.figure(figsize=(10,10))\n",
    "\n",
    "for i in range(10):\n",
    "    data = [(x,t) for x, t in zip(_x_train, _y_train) if t == i]\n",
    "    x, y = data[0]\n",
    "\n",
    "    plt.subplot(5,2, i+1)\n",
    "    # plt.title()\n",
    "    plt.title(\"len={}\".format(len(data)))\n",
    "    \n",
    "    plt.axis(\"off\")\n",
    "    plt.imshow(x, cmap='gray')\n",
    "\n",
    "plt.tight_layout()\n",
    "plt.show()"
   ]
  },
  {
   "cell_type": "code",
   "execution_count": 7,
   "metadata": {},
   "outputs": [],
   "source": [
    "def preprocess(data, label=False):\n",
    "    if label:\n",
    "        # 教師データはto_categorical()でone-hot-encodingする。\n",
    "        data = to_categorical(data)\n",
    "    else:\n",
    "        # 入力画像は、astype('float32')で型変換を行い、レンジを0-1にするために255で割る。\n",
    "        # 0-255 -> 0-1\n",
    "        data = data.astype('float32') / 255\n",
    "        # Kerasの入力データの形式は(ミニバッチサイズ、横幅、縦幅、チャネル数)である必要があるので、reshape()を使って形式を変換する。\n",
    "        # (sample, width, height) -> (sample, width, height, channel)\n",
    "        data = data.reshape((-1, 28, 28, 1))\n",
    "\n",
    "    return data"
   ]
  },
  {
   "cell_type": "code",
   "execution_count": 8,
   "metadata": {},
   "outputs": [
    {
     "name": "stdout",
     "output_type": "stream",
     "text": [
      "(48000, 28, 28, 1)\n",
      "(12000, 28, 28, 1)\n",
      "(10000, 28, 28, 1)\n",
      "1.0\n",
      "1.0\n",
      "1.0\n",
      "(48000, 10)\n",
      "(12000, 10)\n",
      "(10000, 10)\n"
     ]
    }
   ],
   "source": [
    "x_train = preprocess(_x_train)\n",
    "x_val= preprocess(_x_val)\n",
    "x_test = preprocess(_x_test)\n",
    "\n",
    "y_train = preprocess(_y_train, label=True)\n",
    "y_val = preprocess(_y_val, label=True)\n",
    "y_test = preprocess(_y_test, label=True)\n",
    "\n",
    "print(x_train.shape) # (48000, 28, 28, 1)\n",
    "print(x_val.shape) # (12000, 28, 28, 1)\n",
    "print(x_test.shape) # (10000, 28, 28, 1)\n",
    "print(x_train.max()) # 1.0\n",
    "print(x_val.max()) # 1.0\n",
    "print(y_test.max()) # 1.0\n",
    "print(y_train.shape) # (48000, 10)\n",
    "print(y_val.shape) # (12000, 10) \n",
    "print(y_test.shape) # (10000, 10)"
   ]
  },
  {
   "cell_type": "code",
   "execution_count": 9,
   "metadata": {},
   "outputs": [],
   "source": [
    "datagen = ImageDataGenerator(\n",
    "    featurewise_center=False,\n",
    "    samplewise_center=False,\n",
    "    featurewise_std_normalization=False,\n",
    "    samplewise_std_normalization=False,\n",
    "    zca_whitening=False,\n",
    "    rotation_range=20,\n",
    "    width_shift_range=0.1,\n",
    "    height_shift_range=0.1,\n",
    "    horizontal_flip=False,\n",
    "    vertical_flip=False)"
   ]
  },
  {
   "cell_type": "code",
   "execution_count": 10,
   "metadata": {},
   "outputs": [],
   "source": [
    "datagen_train = ImageDataGenerator(\n",
    "    featurewise_center=False,\n",
    "    samplewise_center=False,\n",
    "    featurewise_std_normalization=False,\n",
    "    samplewise_std_normalization=False,\n",
    "    zca_whitening=False,\n",
    "    rotation_range=20,\n",
    "    width_shift_range=0.1,\n",
    "    height_shift_range=0.1,\n",
    "    horizontal_flip=False,\n",
    "    vertical_flip=False)\n",
    "\n",
    "datagen_valid = ImageDataGenerator(\n",
    "    featurewise_center=False,\n",
    "    samplewise_center=False,\n",
    "    featurewise_std_normalization=False,\n",
    "    samplewise_std_normalization=False,\n",
    "    zca_whitening=False,\n",
    "    rotation_range=21,\n",
    "    width_shift_range=0.15,\n",
    "    height_shift_range=0.15,\n",
    "    horizontal_flip=False,\n",
    "    vertical_flip=False)"
   ]
  },
  {
   "cell_type": "code",
   "execution_count": 11,
   "metadata": {},
   "outputs": [],
   "source": [
    "datagen_train.fit(x_train)\n",
    "datagen_valid.fit(x_train)"
   ]
  },
  {
   "cell_type": "code",
   "execution_count": 12,
   "metadata": {},
   "outputs": [],
   "source": [
    "train_generator = datagen_train.flow(x_train, y_train, batch_size=32)    \n",
    "validation_generator = datagen_valid.flow(x_train, y_train, batch_size=32)    \n",
    "test_generator = datagen_train.flow(x_train, y_train, batch_size=32)    "
   ]
  },
  {
   "cell_type": "code",
   "execution_count": 13,
   "metadata": {},
   "outputs": [],
   "source": [
    "def get_model():\n",
    "    \n",
    "    inp = Input(shape=SHAPE+tuple([1]))\n",
    "\n",
    "    x = Conv2D(32, (3, 3), activation='relu')(inp)\n",
    "    x = MaxPooling2D(pool_size=(2, 2))(x)\n",
    "    #x = Conv2D(32, (3, 3), activation='relu')(x)\n",
    "    #x = MaxPooling2D(pool_size=(2, 2))(x)\n",
    "    x = Dropout(0.5)(x, training = True)\n",
    "\n",
    "    x = Conv2D(64, (3, 3), activation='relu')(x)\n",
    "    x = MaxPooling2D(pool_size=(2, 2))(x)\n",
    "    #x = Conv2D(64, (3, 3), activation='relu')(x)\n",
    "    #x = MaxPooling2D(pool_size=(2, 2))(x)\n",
    "    x = Dropout(0.5)(x, training = True)\n",
    "\n",
    "    x = Flatten()(x)\n",
    "    x = Dense(512, activation='relu')(x)\n",
    "    x = Dropout(0.3)(x, training = True)\n",
    "\n",
    "    out = Dense(10, activation='softmax')(x)\n",
    "\n",
    "    model = Model(inp, out)\n",
    "    model.compile(loss='categorical_crossentropy', optimizer='adam', metrics=['accuracy'])\n",
    "    \n",
    "    return model"
   ]
  },
  {
   "cell_type": "code",
   "execution_count": 14,
   "metadata": {},
   "outputs": [],
   "source": [
    "\n",
    "es = EarlyStopping(monitor='val_accuracy', mode='auto', restore_best_weights=True, verbose=1, patience=7)\n"
   ]
  },
  {
   "cell_type": "code",
   "execution_count": 15,
   "metadata": {},
   "outputs": [
    {
     "name": "stdout",
     "output_type": "stream",
     "text": [
      "Model: \"model\"\n",
      "_________________________________________________________________\n",
      "Layer (type)                 Output Shape              Param #   \n",
      "=================================================================\n",
      "input_1 (InputLayer)         [(None, 28, 28, 1)]       0         \n",
      "_________________________________________________________________\n",
      "conv2d (Conv2D)              (None, 26, 26, 32)        320       \n",
      "_________________________________________________________________\n",
      "max_pooling2d (MaxPooling2D) (None, 13, 13, 32)        0         \n",
      "_________________________________________________________________\n",
      "dropout (Dropout)            (None, 13, 13, 32)        0         \n",
      "_________________________________________________________________\n",
      "conv2d_1 (Conv2D)            (None, 11, 11, 64)        18496     \n",
      "_________________________________________________________________\n",
      "max_pooling2d_1 (MaxPooling2 (None, 5, 5, 64)          0         \n",
      "_________________________________________________________________\n",
      "dropout_1 (Dropout)          (None, 5, 5, 64)          0         \n",
      "_________________________________________________________________\n",
      "flatten (Flatten)            (None, 1600)              0         \n",
      "_________________________________________________________________\n",
      "dense (Dense)                (None, 512)               819712    \n",
      "_________________________________________________________________\n",
      "dropout_2 (Dropout)          (None, 512)               0         \n",
      "_________________________________________________________________\n",
      "dense_1 (Dense)              (None, 10)                5130      \n",
      "=================================================================\n",
      "Total params: 843,658\n",
      "Trainable params: 843,658\n",
      "Non-trainable params: 0\n",
      "_________________________________________________________________\n"
     ]
    }
   ],
   "source": [
    "SHAPE = (28, 28,)\n",
    "model = get_model()\n",
    "model.summary()"
   ]
  },
  {
   "cell_type": "code",
   "execution_count": 16,
   "metadata": {},
   "outputs": [
    {
     "name": "stdout",
     "output_type": "stream",
     "text": [
      "Epoch 1/10\n",
      "20/20 [==============================] - 2s 78ms/step - loss: 2.2612 - accuracy: 0.1578 - val_loss: 2.1822 - val_accuracy: 0.1937\n",
      "Epoch 2/10\n",
      "20/20 [==============================] - 1s 60ms/step - loss: 1.9717 - accuracy: 0.3297 - val_loss: 1.9876 - val_accuracy: 0.3000\n",
      "Epoch 3/10\n",
      "20/20 [==============================] - 1s 58ms/step - loss: 1.6675 - accuracy: 0.4406 - val_loss: 1.8803 - val_accuracy: 0.4000\n",
      "Epoch 4/10\n",
      "20/20 [==============================] - 1s 59ms/step - loss: 1.5409 - accuracy: 0.4531 - val_loss: 1.8456 - val_accuracy: 0.3375\n",
      "Epoch 5/10\n",
      "20/20 [==============================] - 1s 59ms/step - loss: 1.3409 - accuracy: 0.5437 - val_loss: 1.5866 - val_accuracy: 0.4500\n",
      "Epoch 6/10\n",
      "20/20 [==============================] - 1s 61ms/step - loss: 1.1821 - accuracy: 0.5938 - val_loss: 1.3940 - val_accuracy: 0.5188\n",
      "Epoch 7/10\n",
      "20/20 [==============================] - 1s 59ms/step - loss: 1.0799 - accuracy: 0.6500 - val_loss: 1.3967 - val_accuracy: 0.5125\n",
      "Epoch 8/10\n",
      "20/20 [==============================] - 1s 58ms/step - loss: 0.9864 - accuracy: 0.6766 - val_loss: 1.2894 - val_accuracy: 0.6250\n",
      "Epoch 9/10\n",
      "20/20 [==============================] - 1s 61ms/step - loss: 0.8379 - accuracy: 0.7047 - val_loss: 1.3914 - val_accuracy: 0.5562\n",
      "Epoch 10/10\n",
      "20/20 [==============================] - 1s 59ms/step - loss: 0.8061 - accuracy: 0.7266 - val_loss: 1.1940 - val_accuracy: 0.6125\n"
     ]
    },
    {
     "data": {
      "text/plain": [
       "<tensorflow.python.keras.callbacks.History at 0x1e29774b0b8>"
      ]
     },
     "execution_count": 16,
     "metadata": {},
     "output_type": "execute_result"
    }
   ],
   "source": [
    "train_num = 640\n",
    "validation_num = 160\n",
    "batch_size = 32\n",
    "model.fit(train_generator, steps_per_epoch= train_num / batch_size,\n",
    "          epochs=10, validation_data=validation_generator, validation_steps = validation_num / batch_size, \n",
    "          callbacks=[es], verbose = 1)"
   ]
  },
  {
   "cell_type": "code",
   "execution_count": 17,
   "metadata": {},
   "outputs": [
    {
     "name": "stdout",
     "output_type": "stream",
     "text": [
      "(12800, 28, 28, 1) (12800,)\n"
     ]
    }
   ],
   "source": [
    "### AUGMENT 100 TIMES EVERY SINGLE IMAGE ###\n",
    "rep=100\n",
    "validation_num = 100 #validation_generator.samples\n",
    "image_valid, label_valid = [], []\n",
    "\n",
    "for i, (batch, label) in enumerate(validation_generator):\n",
    "    \n",
    "    image_valid.append(batch)\n",
    "    label_valid.append(label)\n",
    "        \n",
    "    if i == ((validation_num // batch_size)+1)*rep-1:\n",
    "        break\n",
    "        \n",
    "image_valid = np.vstack(image_valid)\n",
    "label_valid = np.argmax(np.vstack(label_valid), axis=1)\n",
    "\n",
    "print(image_valid.shape, label_valid.shape)\n",
    "#"
   ]
  },
  {
   "cell_type": "code",
   "execution_count": 18,
   "metadata": {},
   "outputs": [
    {
     "name": "stdout",
     "output_type": "stream",
     "text": [
      "(128, 28, 28, 1) (128,)\n"
     ]
    }
   ],
   "source": [
    "test_num = 100 #test_generator.samples\n",
    "\n",
    "image_test, label_test = [], []\n",
    "for i in range((test_num // batch_size)+1):\n",
    "    x,y = test_generator.next()\n",
    "    image_test.append(x)\n",
    "    label_test.append(y)\n",
    "        \n",
    "image_test = np.vstack(image_test)\n",
    "label_test = np.argmax(np.vstack(label_test), axis=1)\n",
    "\n",
    "print(image_test.shape, label_test.shape)"
   ]
  },
  {
   "cell_type": "code",
   "execution_count": 41,
   "metadata": {},
   "outputs": [
    {
     "name": "stdout",
     "output_type": "stream",
     "text": [
      "image_valid (12800, 28, 28, 1)\n",
      "image_test (128, 28, 28, 1)\n"
     ]
    }
   ],
   "source": [
    "print(\"image_valid\",image_valid.shape)\n",
    "print(\"image_test\",image_test.shape)"
   ]
  },
  {
   "cell_type": "code",
   "execution_count": 19,
   "metadata": {},
   "outputs": [],
   "source": [
    "### COMPUTE PREDICTIONS ###\n",
    "\n",
    "pred_prob_valid = model.predict(image_valid)\n",
    "pred_valid = np.argmax(pred_prob_valid, axis=1)\n",
    "\n",
    "pred_prob_test = model.predict(image_test)\n",
    "pred_test = np.argmax(pred_prob_test, axis=1)"
   ]
  },
  {
   "cell_type": "code",
   "execution_count": 20,
   "metadata": {},
   "outputs": [
    {
     "name": "stdout",
     "output_type": "stream",
     "text": [
      "(12800, 28, 28, 1)\n",
      "(12800, 10)\n",
      "(12800,)\n",
      "[0.0009401  0.03721047 0.01754619 0.00368485 0.73305786 0.00905359\n",
      " 0.15300539 0.00403131 0.01853509 0.02293512]\n",
      "4\n"
     ]
    }
   ],
   "source": [
    "print(image_valid.shape)\n",
    "print(pred_prob_valid.shape)\n",
    "print(pred_valid.shape)\n",
    "print(pred_prob_valid[0])\n",
    "print(pred_valid[0])"
   ]
  },
  {
   "cell_type": "code",
   "execution_count": 43,
   "metadata": {},
   "outputs": [
    {
     "data": {
      "text/html": [
       "<div>\n",
       "<style scoped>\n",
       "    .dataframe tbody tr th:only-of-type {\n",
       "        vertical-align: middle;\n",
       "    }\n",
       "\n",
       "    .dataframe tbody tr th {\n",
       "        vertical-align: top;\n",
       "    }\n",
       "\n",
       "    .dataframe thead th {\n",
       "        text-align: right;\n",
       "    }\n",
       "</style>\n",
       "<table border=\"1\" class=\"dataframe\">\n",
       "  <thead>\n",
       "    <tr style=\"text-align: right;\">\n",
       "      <th></th>\n",
       "      <th>actual</th>\n",
       "      <th>prediction</th>\n",
       "    </tr>\n",
       "  </thead>\n",
       "  <tbody>\n",
       "    <tr>\n",
       "      <th>0</th>\n",
       "      <td>8</td>\n",
       "      <td>9</td>\n",
       "    </tr>\n",
       "    <tr>\n",
       "      <th>1</th>\n",
       "      <td>2</td>\n",
       "      <td>2</td>\n",
       "    </tr>\n",
       "    <tr>\n",
       "      <th>2</th>\n",
       "      <td>3</td>\n",
       "      <td>3</td>\n",
       "    </tr>\n",
       "    <tr>\n",
       "      <th>3</th>\n",
       "      <td>8</td>\n",
       "      <td>8</td>\n",
       "    </tr>\n",
       "    <tr>\n",
       "      <th>4</th>\n",
       "      <td>3</td>\n",
       "      <td>3</td>\n",
       "    </tr>\n",
       "    <tr>\n",
       "      <th>5</th>\n",
       "      <td>3</td>\n",
       "      <td>3</td>\n",
       "    </tr>\n",
       "    <tr>\n",
       "      <th>6</th>\n",
       "      <td>0</td>\n",
       "      <td>0</td>\n",
       "    </tr>\n",
       "    <tr>\n",
       "      <th>7</th>\n",
       "      <td>4</td>\n",
       "      <td>4</td>\n",
       "    </tr>\n",
       "    <tr>\n",
       "      <th>8</th>\n",
       "      <td>5</td>\n",
       "      <td>3</td>\n",
       "    </tr>\n",
       "    <tr>\n",
       "      <th>9</th>\n",
       "      <td>9</td>\n",
       "      <td>9</td>\n",
       "    </tr>\n",
       "  </tbody>\n",
       "</table>\n",
       "</div>"
      ],
      "text/plain": [
       "  actual prediction\n",
       "0      8          9\n",
       "1      2          2\n",
       "2      3          3\n",
       "3      8          8\n",
       "4      3          3\n",
       "5      3          3\n",
       "6      0          0\n",
       "7      4          4\n",
       "8      5          3\n",
       "9      9          9"
      ]
     },
     "execution_count": 43,
     "metadata": {},
     "output_type": "execute_result"
    }
   ],
   "source": [
    "import pandas as pd\n",
    "df_labes = pd.DataFrame()\n",
    "df_labes[\"actual\"] = [map_labels[label] for label in label_test]\n",
    "df_labes[\"prediction\"] = [map_labels[label] for label in pred_test]\n",
    "df_labes.head(10)"
   ]
  },
  {
   "cell_type": "code",
   "execution_count": 21,
   "metadata": {},
   "outputs": [
    {
     "name": "stdout",
     "output_type": "stream",
     "text": [
      "              precision    recall  f1-score   support\n",
      "\n",
      "           0       0.91      0.62      0.74        16\n",
      "           1       0.91      0.91      0.91        11\n",
      "           2       0.57      0.89      0.70         9\n",
      "           3       0.69      0.90      0.78        20\n",
      "           4       1.00      0.67      0.80        18\n",
      "           5       0.56      0.50      0.53        10\n",
      "           6       0.62      0.83      0.71        12\n",
      "           7       0.62      0.56      0.59         9\n",
      "           8       0.86      0.46      0.60        13\n",
      "           9       0.64      0.90      0.75        10\n",
      "\n",
      "    accuracy                           0.73       128\n",
      "   macro avg       0.74      0.72      0.71       128\n",
      "weighted avg       0.76      0.73      0.72       128\n",
      "\n"
     ]
    }
   ],
   "source": [
    "print(classification_report([map_labels[label] for label in label_test], [map_labels[label] for label in pred_test]))"
   ]
  },
  {
   "cell_type": "code",
   "execution_count": 22,
   "metadata": {},
   "outputs": [],
   "source": [
    "### GET PROBABILITY DISTRIBUTIONS ON VALIDATION SET ###\n",
    "\n",
    "diz_prob = {}\n",
    "diz_prob_correct, diz_prob_mistake = {}, {}\n",
    "\n",
    "#[0, 1, 2, 3, 4, 5, 6, 7, 8, 9] all labels\n",
    "for i in np.unique(label_test):\n",
    "    diz_prob_correct[i] = []\n",
    "    diz_prob_mistake[i] = []\n",
    "    diz_prob[i] = []\n",
    "\n",
    "#for all validation,\n",
    "#check if prediction is correct and add the probability to related list\n",
    "for i,j,prob in zip(label_valid, pred_valid, pred_prob_valid):\n",
    "    diz_prob[i].append(prob[j])\n",
    "    \n",
    "    if i == j:\n",
    "        diz_prob_correct[j].append(prob[i])\n",
    "    else:\n",
    "        diz_prob_mistake[j].append(prob[j])"
   ]
  },
  {
   "cell_type": "code",
   "execution_count": 71,
   "metadata": {},
   "outputs": [],
   "source": [
    "def draw_distributions(data,title):\n",
    "    d_labels = [ a for a in data]\n",
    "    d_data = [ len(data[a]) for a in data]\n",
    "    plt.title(title)    \n",
    "    plt.bar(d_labels,d_data)\n",
    "    plt.show()\n",
    "    "
   ]
  },
  {
   "cell_type": "code",
   "execution_count": 78,
   "metadata": {},
   "outputs": [
    {
     "data": {
      "image/png": "[encoded data removed]",
      "text/plain": [
       "<Figure size 432x288 with 1 Axes>"
      ]
     },
     "metadata": {
      "needs_background": "light"
     },
     "output_type": "display_data"
    },
    {
     "data": {
      "image/png": "[encoded data removed]",
      "text/plain": [
       "<Figure size 432x288 with 1 Axes>"
      ]
     },
     "metadata": {
      "needs_background": "light"
     },
     "output_type": "display_data"
    },
    {
     "data": {
      "image/png": "[encoded data removed]",
      "text/plain": [
       "<Figure size 432x288 with 1 Axes>"
      ]
     },
     "metadata": {
      "needs_background": "light"
     },
     "output_type": "display_data"
    }
   ],
   "source": [
    "draw_distributions(diz_prob_correct,\"Correct\")\n",
    "draw_distributions(diz_prob_mistake,\"Mistake\")\n",
    "draw_distributions(diz_prob,\"All\")"
   ]
  },
  {
   "cell_type": "code",
   "execution_count": null,
   "metadata": {},
   "outputs": [],
   "source": []
  },
  {
   "cell_type": "code",
   "execution_count": 46,
   "metadata": {},
   "outputs": [
    {
     "name": "stdout",
     "output_type": "stream",
     "text": [
      "label_valid (12800,)\n",
      "label_test (128,)\n"
     ]
    },
    {
     "data": {
      "text/plain": [
       "array([0, 1, 2, 3, 4, 5, 6, 7, 8, 9], dtype=int64)"
      ]
     },
     "execution_count": 46,
     "metadata": {},
     "output_type": "execute_result"
    }
   ],
   "source": [
    "len(diz_prob_mistake[0])\n",
    "print(\"label_valid\",label_valid.shape)\n",
    "print(\"label_test\",label_test.shape)\n",
    "label_test.shape\n",
    "np.unique(label_test)"
   ]
  },
  {
   "cell_type": "code",
   "execution_count": 80,
   "metadata": {},
   "outputs": [
    {
     "data": {
      "text/plain": [
       "(array([ 15.,  99., 117., 148., 119., 108., 132., 103., 129., 304.]),\n",
       " array([0., 0., 0., 0., 1., 1., 1., 1., 1., 1., 1.], dtype=float32),\n",
       " <a list of 10 Patch objects>)"
      ]
     },
     "execution_count": 80,
     "metadata": {},
     "output_type": "execute_result"
    },
    {
     "data": {
      "image/png": "[encoded data removed]",
      "text/plain": [
       "<Figure size 432x288 with 1 Axes>"
      ]
     },
     "metadata": {
      "needs_background": "light"
     },
     "output_type": "display_data"
    }
   ],
   "source": []
  },
  {
   "cell_type": "code",
   "execution_count": 85,
   "metadata": {},
   "outputs": [
    {
     "name": "stdout",
     "output_type": "stream",
     "text": [
      "{0: 0.36293320953845976, 1: 0.3743027031421661, 2: 0.3646327018737793, 3: 0.3676191478967667, 4: 0.3359910845756531, 5: 0.3502654165029526, 6: 0.4113047897815705, 7: 0.3574727296829223, 8: 0.285548198223114, 9: 0.2947063148021698}\n"
     ]
    }
   ],
   "source": [
    "### ESTABLISH THRESHOLD FOR EACH CLASS ###\n",
    "\n",
    "thresh_valid = {}\n",
    "for i in range(10):\n",
    "    thresh_valid[i] = np.quantile(diz_prob[i], 0.1)\n",
    " \n",
    "\n",
    "print(thresh_valid)\n",
    "#for i in range(10):\n",
    "#    plt.title(str(i)+ \" -> \"+str(thresh_valid[i]))\n",
    "#    plt.hist(diz_prob[i])\n",
    "#    plt.show()"
   ]
  },
  {
   "cell_type": "code",
   "execution_count": 84,
   "metadata": {},
   "outputs": [
    {
     "data": {
      "image/png": "[encoded data removed]",
      "text/plain": [
       "<Figure size 432x288 with 1 Axes>"
      ]
     },
     "metadata": {
      "needs_background": "light"
     },
     "output_type": "display_data"
    },
    {
     "data": {
      "image/png": "[encoded data removed]",
      "text/plain": [
       "<Figure size 432x288 with 1 Axes>"
      ]
     },
     "metadata": {
      "needs_background": "light"
     },
     "output_type": "display_data"
    },
    {
     "data": {
      "image/png": "[encoded data removed]",
      "text/plain": [
       "<Figure size 432x288 with 1 Axes>"
      ]
     },
     "metadata": {
      "needs_background": "light"
     },
     "output_type": "display_data"
    },
    {
     "data": {
      "image/png": "[encoded data removed]",
      "text/plain": [
       "<Figure size 432x288 with 1 Axes>"
      ]
     },
     "metadata": {
      "needs_background": "light"
     },
     "output_type": "display_data"
    },
    {
     "data": {
      "image/png": "[encoded data removed]",
      "text/plain": [
       "<Figure size 432x288 with 1 Axes>"
      ]
     },
     "metadata": {
      "needs_background": "light"
     },
     "output_type": "display_data"
    },
    {
     "data": {
      "image/png": "[encoded data removed]",
      "text/plain": [
       "<Figure size 432x288 with 1 Axes>"
      ]
     },
     "metadata": {
      "needs_background": "light"
     },
     "output_type": "display_data"
    },
    {
     "data": {
      "image/png": "[encoded data removed]",
      "text/plain": [
       "<Figure size 432x288 with 1 Axes>"
      ]
     },
     "metadata": {
      "needs_background": "light"
     },
     "output_type": "display_data"
    },
    {
     "data": {
      "image/png": "[encoded data removed]",
      "text/plain": [
       "<Figure size 432x288 with 1 Axes>"
      ]
     },
     "metadata": {
      "needs_background": "light"
     },
     "output_type": "display_data"
    },
    {
     "data": {
      "image/png": "[encoded data removed]",
      "text/plain": [
       "<Figure size 432x288 with 1 Axes>"
      ]
     },
     "metadata": {
      "needs_background": "light"
     },
     "output_type": "display_data"
    },
    {
     "data": {
      "image/png": "[encoded data removed]",
      "text/plain": [
       "<Figure size 432x288 with 1 Axes>"
      ]
     },
     "metadata": {
      "needs_background": "light"
     },
     "output_type": "display_data"
    }
   ],
   "source": [
    "### PLOT PROBABILITY DISTRIBUTIONS ###\n",
    "\n",
    "for i in range(10):\n",
    "    \n",
    "    plt.hist(diz_prob_correct[i], bins=10, alpha=0.3, label='correct')\n",
    "    plt.hist(diz_prob_mistake[i], bins=10, alpha=0.3, label='mistake')\n",
    "    plt.axvline(thresh_valid[i], color='red', linestyle='--')\n",
    "    plt.legend(); plt.xlabel('probability'); plt.ylabel('count'); \n",
    "    plt.title(map_labels[i])\n",
    "    plt.show()\n",
    "\n",
    "np.set_printoptions(False)"
   ]
  },
  {
   "cell_type": "code",
   "execution_count": 87,
   "metadata": {},
   "outputs": [
    {
     "name": "stdout",
     "output_type": "stream",
     "text": [
      "-----------\n",
      "pred_prob [9.e-04 8.e-04 3.e-01 2.e-01 1.e-05 2.e-01 4.e-03 5.e-05 3.e-01 8.e-05]\n",
      "max(pred_prob) 0.33178213\n",
      "pred 2\n",
      "thresh_valid[int(pred)] 0.3646327018737793\n",
      "-----------\n",
      "pred_prob [0. 0. 0. 0. 0. 0. 0. 0. 0. 0.]\n",
      "max(pred_prob) 0.27215722\n",
      "pred 8\n",
      "thresh_valid[int(pred)] 0.285548198223114\n",
      "-----------\n",
      "pred_prob [0. 0. 0. 0. 0. 0. 0. 0. 0. 0.]\n",
      "max(pred_prob) 0.21635793\n",
      "pred 7\n",
      "thresh_valid[int(pred)] 0.3574727296829223\n",
      "-----------\n",
      "pred_prob [0. 0. 0. 0. 0. 0. 0. 0. 0. 0.]\n",
      "max(pred_prob) 0.32830617\n",
      "pred 0\n",
      "thresh_valid[int(pred)] 0.36293320953845976\n",
      "-----------\n",
      "pred_prob [0. 0. 0. 0. 0. 0. 0. 0. 0. 0.]\n",
      "max(pred_prob) 0.32463902\n",
      "pred 2\n",
      "thresh_valid[int(pred)] 0.3646327018737793\n",
      "-----------\n",
      "pred_prob [3.e-03 7.e-05 1.e-01 2.e-01 3.e-04 3.e-02 6.e-04 4.e-01 3.e-01 3.e-02]\n",
      "max(pred_prob) 0.35645044\n",
      "pred 7\n",
      "thresh_valid[int(pred)] 0.3574727296829223\n"
     ]
    },
    {
     "data": {
      "text/plain": [
       "6"
      ]
     },
     "execution_count": 87,
     "metadata": {},
     "output_type": "execute_result"
    }
   ],
   "source": [
    "### COMPUTE PREDICTIONS WITH THRESHOLD ###\n",
    "\n",
    "count = 0\n",
    "label_thresh, pred_thresh = [], []\n",
    "\n",
    "for pred, pred_prob, label in zip(pred_test, pred_prob_test, label_test):\n",
    "\n",
    "    if max(pred_prob) < thresh_valid[int(pred)]:\n",
    "        print(\"-----------\")\n",
    "        print(\"pred_prob\",pred_prob)\n",
    "        print(\"max(pred_prob)\",max(pred_prob))\n",
    "        print(\"pred\",pred)\n",
    "        print(\"thresh_valid[int(pred)]\",thresh_valid[int(pred)])\n",
    "        count+=1\n",
    "    else:\n",
    "        pred_thresh.append(map_labels[pred])\n",
    "        label_thresh.append(map_labels[label])\n",
    "        \n",
    "count # not classificable"
   ]
  },
  {
   "cell_type": "code",
   "execution_count": 27,
   "metadata": {},
   "outputs": [
    {
     "name": "stdout",
     "output_type": "stream",
     "text": [
      "              precision    recall  f1-score   support\n",
      "\n",
      "           0       1.00      0.62      0.77        16\n",
      "           1       0.91      0.91      0.91        11\n",
      "           2       0.58      0.88      0.70         8\n",
      "           3       0.69      0.95      0.80        19\n",
      "           4       1.00      0.71      0.83        17\n",
      "           5       0.56      0.56      0.56         9\n",
      "           6       0.62      0.91      0.74        11\n",
      "           7       0.83      0.56      0.67         9\n",
      "           8       0.83      0.42      0.56        12\n",
      "           9       0.64      0.90      0.75        10\n",
      "\n",
      "    accuracy                           0.75       122\n",
      "   macro avg       0.77      0.74      0.73       122\n",
      "weighted avg       0.79      0.75      0.74       122\n",
      "\n"
     ]
    }
   ],
   "source": [
    "print(classification_report(label_thresh, pred_thresh))"
   ]
  },
  {
   "cell_type": "code",
   "execution_count": 104,
   "metadata": {},
   "outputs": [
    {
     "name": "stdout",
     "output_type": "stream",
     "text": [
      "(28, 28, 1)\n"
     ]
    },
    {
     "data": {
      "image/png": "[encoded data removed]",
      "text/plain": [
       "<Figure size 432x288 with 1 Axes>"
      ]
     },
     "metadata": {
      "needs_background": "light"
     },
     "output_type": "display_data"
    },
    {
     "name": "stdout",
     "output_type": "stream",
     "text": [
      "prediction for 0\n",
      "predicted  9\n",
      "[0.003850305452942848, 0.00027072164812125266, 0.017672939226031303, 0.05249970778822899, 0.01720413565635681, 0.2347274124622345, 0.013811673037707806, 0.038572534918785095, 0.1880817711353302, 0.43330875039100647]\n",
      "prediction for 1\n",
      "predicted  8\n",
      "[0.0024577495642006397, 0.00011396350600989535, 0.022056499496102333, 0.015076780691742897, 0.007953716441988945, 0.10246948897838593, 0.007015596609562635, 0.016013316810131073, 0.5057640671730042, 0.3210788369178772]\n",
      "prediction for 2\n",
      "predicted  5\n",
      "[0.003814847208559513, 0.00037297402741387486, 0.0652431845664978, 0.033929064869880676, 0.0419766791164875, 0.3482167720794678, 0.004842763766646385, 0.012923485599458218, 0.27538537979125977, 0.2132948935031891]\n",
      "prediction for 3\n",
      "predicted  8\n",
      "[0.002239788183942437, 0.00012932145909871906, 0.2455345243215561, 0.0417458713054657, 0.014614381827414036, 0.11705499142408371, 0.038429584354162216, 0.0021234522573649883, 0.39398643374443054, 0.14414162933826447]\n",
      "prediction for 4\n",
      "predicted  9\n",
      "[0.001843160018324852, 0.0001468289119657129, 0.018442323431372643, 0.005989753641188145, 0.011497421190142632, 0.021257806569337845, 0.0016103157540783286, 0.04449765384197235, 0.011305921711027622, 0.883408784866333]\n",
      "prediction for 5\n",
      "predicted  9\n",
      "[0.008076594211161137, 0.00036750209983438253, 0.058602333068847656, 0.10709615051746368, 0.060501616448163986, 0.13906684517860413, 0.004697707947343588, 0.06689351052045822, 0.14337600767612457, 0.4113217294216156]\n",
      "prediction for 6\n",
      "predicted  9\n",
      "[0.00869919452816248, 0.0008956422680057585, 0.02682550624012947, 0.013125908561050892, 0.06935232132673264, 0.048451174050569534, 0.012765375897288322, 0.13650751113891602, 0.05986444279551506, 0.6235129237174988]\n",
      "prediction for 7\n",
      "predicted  9\n",
      "[0.002125534927472472, 0.0016509185079485178, 0.07518182694911957, 0.06923826038837433, 0.022169778123497963, 0.11373814940452576, 0.018703825771808624, 0.008297939784824848, 0.1239745020866394, 0.5649192333221436]\n",
      "prediction for 8\n",
      "predicted  9\n",
      "[0.00618432741612196, 8.090335177257657e-05, 0.01358285266906023, 0.030005356296896935, 0.008477418683469296, 0.06497228145599365, 0.000807223201263696, 0.06099577620625496, 0.0798729658126831, 0.7350208759307861]\n",
      "prediction for 9\n",
      "predicted  8\n",
      "[0.0016343839233741164, 0.00017853869940154254, 0.06055103987455368, 0.01689174398779869, 0.006500082556158304, 0.20069795846939087, 0.05360789969563484, 0.009251167066395283, 0.5321552157402039, 0.1185319796204567]\n"
     ]
    }
   ],
   "source": [
    "timage = image_test[0]\n",
    "print(timage.shape)\n",
    "plt.imshow(timage.squeeze(),cmap=\"gray\")\n",
    "plt.show()\n",
    "for i in range(10):\n",
    "    preds = model.predict(timage.reshape(1,timage.shape[0],timage.shape[1],timage.shape[2]))\n",
    "    print(\"prediction for\",i)\n",
    "    print(\"predicted \",np.argmax(preds))\n",
    "    print( \" \".join([str(p_sub) for p_sub in preds.tolist() ]))\n",
    "    #for p in preds :\n",
    "    #    print(p)\n",
    "        #print( \" \".join([p_sub for p_sub in p]))"
   ]
  },
  {
   "cell_type": "code",
   "execution_count": 105,
   "metadata": {},
   "outputs": [
    {
     "data": {
      "text/plain": [
       "(128, 28, 28, 1)"
      ]
     },
     "execution_count": 105,
     "metadata": {},
     "output_type": "execute_result"
    }
   ],
   "source": [
    "image_test.shape"
   ]
  },
  {
   "cell_type": "code",
   "execution_count": 29,
   "metadata": {},
   "outputs": [
    {
     "name": "stderr",
     "output_type": "stream",
     "text": [
      "100%|████████████████████████████████████████████████████████████████████████████████| 100/100 [00:10<00:00,  9.68it/s]\n"
     ]
    },
    {
     "data": {
      "text/plain": [
       "(128, 100, 10)"
      ]
     },
     "execution_count": 29,
     "metadata": {},
     "output_type": "execute_result"
    }
   ],
   "source": [
    "### REACTIVATE DROPOUTS AND ITERATE PREDICTIONS ###\n",
    "\n",
    "pred_bayes_dist = []\n",
    "rep = 100\n",
    "\n",
    "for i in tqdm(range(0,rep)):\n",
    "    pred_bayes_dist.append(model.predict(image_test))\n",
    "    \n",
    "pred_bayes_dist = np.transpose(np.stack(pred_bayes_dist), (1,0,2))\n",
    "pred_bayes_dist.shape"
   ]
  },
  {
   "cell_type": "code",
   "execution_count": 30,
   "metadata": {},
   "outputs": [
    {
     "name": "stdout",
     "output_type": "stream",
     "text": [
      "(128, 28, 28, 1)\n",
      "(128, 100, 10)\n",
      "[0. 0. 0. 0. 0. 0. 0. 0. 0. 0.]\n",
      "0.00040161036\n"
     ]
    }
   ],
   "source": [
    "print(image_test.shape)\n",
    "print(pred_bayes_dist.shape)\n",
    "print(pred_bayes_dist[0][0])\n",
    "print(pred_bayes_dist[0][0][1])"
   ]
  },
  {
   "cell_type": "code",
   "execution_count": 31,
   "metadata": {},
   "outputs": [
    {
     "data": {
      "text/plain": [
       "<matplotlib.image.AxesImage at 0x1e299776588>"
      ]
     },
     "execution_count": 31,
     "metadata": {},
     "output_type": "execute_result"
    },
    {
     "data": {
      "image/png": "[encoded data removed]",
      "text/plain": [
       "<Figure size 432x288 with 1 Axes>"
      ]
     },
     "metadata": {
      "needs_background": "light"
     },
     "output_type": "display_data"
    }
   ],
   "source": [
    "\n",
    "plt.imshow(image_test[110].squeeze()   ,cmap=\"gray\"       )"
   ]
  },
  {
   "cell_type": "code",
   "execution_count": 111,
   "metadata": {},
   "outputs": [
    {
     "name": "stdout",
     "output_type": "stream",
     "text": [
      "related_preds (100, 10)\n"
     ]
    },
    {
     "data": {
      "text/plain": [
       "(array([81.,  0.,  0.,  0., 14.,  0.,  1.,  0.,  0.,  4.]),\n",
       " array([4., 4., 5., 6., 6., 6., 7., 8., 8., 8., 9.]),\n",
       " <a list of 10 Patch objects>)"
      ]
     },
     "execution_count": 111,
     "metadata": {},
     "output_type": "execute_result"
    },
    {
     "data": {
      "image/png": "[encoded data removed]",
      "text/plain": [
       "<Figure size 432x288 with 1 Axes>"
      ]
     },
     "metadata": {
      "needs_background": "light"
     },
     "output_type": "display_data"
    }
   ],
   "source": [
    "test_id = 14\n",
    "related_preds = pred_bayes_dist[test_id]\n",
    "print(\"related_preds\",related_preds.shape)\n",
    "related_labels = [ np.argmax(p) for p in related_preds]\n",
    "plt.hist(related_labels)"
   ]
  },
  {
   "cell_type": "code",
   "execution_count": 107,
   "metadata": {},
   "outputs": [
    {
     "name": "stdout",
     "output_type": "stream",
     "text": [
      "pred_bayes_dist[test_id] (100, 10)\n",
      "(28, 28, 1)\n"
     ]
    },
    {
     "data": {
      "image/png": "[encoded data removed]",
      "text/plain": [
       "<Figure size 432x288 with 1 Axes>"
      ]
     },
     "metadata": {
      "needs_background": "light"
     },
     "output_type": "display_data"
    },
    {
     "data": {
      "image/png": "[encoded data removed]",
      "text/plain": [
       "<Figure size 432x288 with 1 Axes>"
      ]
     },
     "metadata": {
      "needs_background": "light"
     },
     "output_type": "display_data"
    },
    {
     "data": {
      "image/png": "[encoded data removed]",
      "text/plain": [
       "<Figure size 432x288 with 1 Axes>"
      ]
     },
     "metadata": {
      "needs_background": "light"
     },
     "output_type": "display_data"
    },
    {
     "data": {
      "image/png": "[encoded data removed]",
      "text/plain": [
       "<Figure size 432x288 with 1 Axes>"
      ]
     },
     "metadata": {
      "needs_background": "light"
     },
     "output_type": "display_data"
    },
    {
     "data": {
      "image/png": "[encoded data removed]",
      "text/plain": [
       "<Figure size 432x288 with 1 Axes>"
      ]
     },
     "metadata": {
      "needs_background": "light"
     },
     "output_type": "display_data"
    },
    {
     "data": {
      "image/png": "[encoded data removed]",
      "text/plain": [
       "<Figure size 432x288 with 1 Axes>"
      ]
     },
     "metadata": {
      "needs_background": "light"
     },
     "output_type": "display_data"
    },
    {
     "data": {
      "image/png": "[encoded data removed]",
      "text/plain": [
       "<Figure size 432x288 with 1 Axes>"
      ]
     },
     "metadata": {
      "needs_background": "light"
     },
     "output_type": "display_data"
    },
    {
     "data": {
      "image/png": "[encoded data removed]",
      "text/plain": [
       "<Figure size 432x288 with 1 Axes>"
      ]
     },
     "metadata": {
      "needs_background": "light"
     },
     "output_type": "display_data"
    },
    {
     "data": {
      "image/png": "[encoded data removed]",
      "text/plain": [
       "<Figure size 432x288 with 1 Axes>"
      ]
     },
     "metadata": {
      "needs_background": "light"
     },
     "output_type": "display_data"
    },
    {
     "data": {
      "image/png": "[encoded data removed]",
      "text/plain": [
       "<Figure size 432x288 with 1 Axes>"
      ]
     },
     "metadata": {
      "needs_background": "light"
     },
     "output_type": "display_data"
    },
    {
     "data": {
      "image/png": "[encoded data removed]",
      "text/plain": [
       "<Figure size 432x288 with 1 Axes>"
      ]
     },
     "metadata": {
      "needs_background": "light"
     },
     "output_type": "display_data"
    }
   ],
   "source": [
    "### VISUALIZE PROBABILITY DISTRIBUTIONS FOR A SPECIFIC TEST IMAGE ###\n",
    "\n",
    "\n",
    "print(\"pred_bayes_dist[test_id]\",pred_bayes_dist[test_id].shape)\n",
    "\n",
    "timage = image_test[test_id]\n",
    "print(timage.shape)\n",
    "plt.imshow(timage.squeeze(),cmap=\"gray\")\n",
    "plt.show()\n",
    "\n",
    "for i in range(10):\n",
    "    \n",
    "    plt.hist(pred_bayes_dist[test_id][:,i], alpha=0.3, label=map_labels[i])\n",
    "    \n",
    "    plt.axvline(np.quantile(pred_bayes_dist[test_id][:,i], 0.5), color='red', linestyle='--', alpha=0.4)\n",
    "    plt.axvline(0.5, color='green', linestyle='--')\n",
    "    plt.xlabel('probability'); plt.ylabel('count'); plt.legend()\n",
    "    \n",
    "    plt.show()\n",
    "    \n",
    "np.set_printoptions(False)\n",
    "#below graps show, in cases that i made prediction as X(0,1...) what were the probabilities\n",
    "#red line : for that prediction what was the 0.5 quantile"
   ]
  },
  {
   "cell_type": "code",
   "execution_count": 115,
   "metadata": {},
   "outputs": [
    {
     "name": "stdout",
     "output_type": "stream",
     "text": [
      "label_test (128,)\n",
      "pred_bayes_dist (128, 100, 10)\n"
     ]
    }
   ],
   "source": [
    "print(\"label_test\",label_test.shape)\n",
    "print(\"pred_bayes_dist\",pred_bayes_dist.shape)"
   ]
  },
  {
   "cell_type": "code",
   "execution_count": null,
   "metadata": {},
   "outputs": [],
   "source": []
  },
  {
   "cell_type": "code",
   "execution_count": 119,
   "metadata": {},
   "outputs": [
    {
     "name": "stdout",
     "output_type": "stream",
     "text": [
      "---------------\n",
      "pred (100, 10)\n",
      "q_pred [1.e-03 3.e-04 2.e-02 2.e-02 3.e-02 8.e-02 6.e-03 4.e-02 1.e-01 6.e-01]\n",
      "argmax 9\n",
      "---------------\n",
      "pred (100, 10)\n",
      "q_pred [2.e-03 8.e-04 3.e-01 4.e-01 3.e-05 9.e-02 4.e-03 7.e-05 8.e-02 2.e-04]\n",
      "---------------\n",
      "pred (100, 10)\n",
      "q_pred [0. 0. 0. 0. 0. 1. 0. 0. 0. 0.]\n",
      "argmax 5\n",
      "---------------\n",
      "pred (100, 10)\n",
      "q_pred [6.e-03 1.e-03 4.e-03 6.e-03 3.e-04 6.e-02 4.e-03 4.e-03 9.e-01 2.e-02]\n",
      "argmax 8\n",
      "---------------\n",
      "pred (100, 10)\n",
      "q_pred [9.e-03 4.e-05 3.e-02 8.e-01 4.e-06 8.e-02 3.e-04 1.e-04 7.e-03 3.e-04]\n",
      "argmax 3\n",
      "---------------\n",
      "pred (100, 10)\n",
      "q_pred [2.e-04 2.e-06 7.e-04 9.e-01 1.e-05 1.e-01 9.e-06 1.e-04 1.e-03 1.e-03]\n",
      "argmax 3\n",
      "---------------\n",
      "pred (100, 10)\n",
      "q_pred [1. 0. 0. 0. 0. 0. 0. 0. 0. 0.]\n",
      "argmax 0\n",
      "---------------\n",
      "pred (100, 10)\n",
      "q_pred [0. 0. 0. 0. 1. 0. 0. 0. 0. 0.]\n",
      "argmax 4\n",
      "---------------\n",
      "pred (100, 10)\n",
      "q_pred [1.e-02 1.e-05 2.e-02 6.e-01 3.e-04 2.e-01 1.e-02 1.e-02 3.e-02 4.e-03]\n",
      "argmax 3\n",
      "---------------\n",
      "pred (100, 10)\n",
      "q_pred [0. 0. 0. 0. 0. 0. 0. 0. 0. 1.]\n",
      "argmax 9\n",
      "---------------\n",
      "pred (100, 10)\n",
      "q_pred [0. 0. 0. 0. 0. 0. 0. 0. 0. 0.]\n",
      "---------------\n",
      "pred (100, 10)\n",
      "q_pred [0. 0. 0. 0. 0. 0. 0. 0. 0. 0.]\n",
      "---------------\n",
      "pred (100, 10)\n",
      "q_pred [8.e-03 2.e-04 5.e-03 7.e-02 2.e-02 4.e-01 1.e-02 4.e-02 2.e-02 3.e-01]\n",
      "---------------\n",
      "pred (100, 10)\n",
      "q_pred [1.e+00 5.e-07 2.e-03 6.e-04 7.e-06 6.e-03 8.e-04 8.e-06 3.e-03 5.e-05]\n",
      "argmax 0\n",
      "---------------\n",
      "pred (100, 10)\n",
      "q_pred [0. 0. 0. 0. 0. 0. 0. 0. 0. 0.]\n",
      "---------------\n",
      "pred (100, 10)\n",
      "q_pred [2.e-03 4.e-04 3.e-02 5.e-01 2.e-03 9.e-02 1.e-04 5.e-02 9.e-03 1.e-01]\n",
      "argmax 3\n",
      "---------------\n",
      "pred (100, 10)\n",
      "q_pred [0. 0. 0. 0. 0. 0. 0. 0. 0. 0.]\n",
      "---------------\n",
      "pred (100, 10)\n",
      "q_pred [4.e-05 1.e+00 4.e-04 1.e-04 8.e-03 6.e-05 4.e-03 7.e-04 2.e-03 1.e-03]\n",
      "argmax 1\n",
      "---------------\n",
      "pred (100, 10)\n",
      "q_pred [0. 0. 0. 1. 0. 0. 0. 0. 0. 0.]\n",
      "argmax 3\n",
      "---------------\n",
      "pred (100, 10)\n",
      "q_pred [6.e-05 3.e-04 4.e-04 2.e-04 1.e+00 5.e-04 3.e-03 8.e-04 5.e-04 7.e-03]\n",
      "argmax 4\n",
      "---------------\n",
      "pred (100, 10)\n",
      "q_pred [1.e-04 3.e-07 9.e-04 2.e-05 2.e-04 2.e-04 1.e+00 2.e-07 2.e-04 2.e-05]\n",
      "argmax 6\n",
      "---------------\n",
      "pred (100, 10)\n",
      "q_pred [3.e-02 1.e-05 9.e-03 2.e-04 3.e-01 1.e-03 6.e-01 2.e-04 5.e-04 6.e-03]\n",
      "argmax 6\n",
      "---------------\n",
      "pred (100, 10)\n",
      "q_pred [0. 0. 0. 0. 0. 0. 0. 0. 0. 0.]\n",
      "---------------\n",
      "pred (100, 10)\n",
      "q_pred [1.e-02 4.e-04 1.e-02 4.e-03 8.e-02 1.e-02 1.e-01 3.e-02 3.e-02 6.e-01]\n",
      "argmax 9\n",
      "---------------\n",
      "pred (100, 10)\n",
      "q_pred [2.e-03 3.e-04 1.e-02 4.e-03 8.e-01 2.e-03 2.e-02 9.e-04 4.e-03 1.e-01]\n",
      "argmax 4\n",
      "---------------\n",
      "pred (100, 10)\n",
      "q_pred [0. 0. 0. 0. 0. 0. 0. 0. 0. 0.]\n",
      "---------------\n",
      "pred (100, 10)\n",
      "q_pred [5.e-03 3.e-04 9.e-03 1.e-01 2.e-02 4.e-02 4.e-03 5.e-01 7.e-03 1.e-01]\n",
      "argmax 7\n",
      "---------------\n",
      "pred (100, 10)\n",
      "q_pred [4.e-04 3.e-06 3.e-03 9.e-01 4.e-06 6.e-02 8.e-06 3.e-04 4.e-03 1.e-03]\n",
      "argmax 3\n",
      "---------------\n",
      "pred (100, 10)\n",
      "q_pred [1.e-04 1.e+00 7.e-04 4.e-04 3.e-02 8.e-04 4.e-03 4.e-03 5.e-03 5.e-03]\n",
      "argmax 1\n",
      "---------------\n",
      "pred (100, 10)\n",
      "q_pred [9.e-03 2.e-04 3.e-02 3.e-03 9.e-01 2.e-03 1.e-02 2.e-03 7.e-04 2.e-02]\n",
      "argmax 4\n",
      "---------------\n",
      "pred (100, 10)\n",
      "q_pred [0. 0. 0. 0. 0. 0. 0. 0. 0. 0.]\n",
      "---------------\n",
      "pred (100, 10)\n",
      "q_pred [2.e-03 1.e-02 6.e-02 6.e-01 7.e-05 1.e-02 1.e-04 1.e-01 1.e-02 2.e-02]\n",
      "argmax 3\n",
      "---------------\n",
      "pred (100, 10)\n",
      "q_pred [3.e-04 2.e-04 4.e-02 8.e-01 2.e-03 8.e-02 5.e-04 1.e-02 6.e-03 6.e-03]\n",
      "argmax 3\n",
      "---------------\n",
      "pred (100, 10)\n",
      "q_pred [3.e-02 1.e-04 8.e-04 1.e-02 7.e-03 4.e-02 9.e-04 8.e-01 2.e-03 1.e-01]\n",
      "argmax 7\n",
      "---------------\n",
      "pred (100, 10)\n",
      "q_pred [4.e-03 5.e-04 7.e-02 6.e-02 5.e-04 3.e-02 9.e-04 6.e-02 6.e-01 7.e-02]\n",
      "argmax 8\n",
      "---------------\n",
      "pred (100, 10)\n",
      "q_pred [1.e-03 1.e-05 4.e-01 1.e-01 2.e-06 2.e-03 8.e-07 3.e-01 9.e-03 3.e-03]\n",
      "---------------\n",
      "pred (100, 10)\n",
      "q_pred [0. 0. 0. 0. 0. 0. 0. 0. 0. 0.]\n",
      "---------------\n",
      "pred (100, 10)\n",
      "q_pred [9.e-01 2.e-04 8.e-03 4.e-03 2.e-04 4.e-02 3.e-03 2.e-03 4.e-02 1.e-03]\n",
      "argmax 0\n",
      "---------------\n",
      "pred (100, 10)\n",
      "q_pred [0. 1. 0. 0. 0. 0. 0. 0. 0. 0.]\n",
      "argmax 1\n",
      "---------------\n",
      "pred (100, 10)\n",
      "q_pred [0. 0. 0. 0. 0. 0. 0. 0. 0. 0.]\n",
      "---------------\n",
      "pred (100, 10)\n",
      "q_pred [1.e+00 9.e-07 3.e-04 1.e-04 4.e-05 2.e-03 3.e-03 1.e-05 3.e-04 2.e-05]\n",
      "argmax 0\n",
      "---------------\n",
      "pred (100, 10)\n",
      "q_pred [6.e-03 3.e-05 3.e-03 2.e-02 4.e-04 9.e-01 3.e-03 3.e-04 2.e-02 2.e-02]\n",
      "argmax 5\n",
      "---------------\n",
      "pred (100, 10)\n",
      "q_pred [2.e-02 2.e-06 3.e-03 2.e-04 4.e-03 2.e-03 1.e+00 2.e-05 5.e-04 7.e-05]\n",
      "argmax 6\n",
      "---------------\n",
      "pred (100, 10)\n",
      "q_pred [0. 0. 0. 0. 0. 0. 0. 0. 0. 0.]\n",
      "---------------\n",
      "pred (100, 10)\n",
      "q_pred [0. 0. 0. 0. 0. 0. 0. 1. 0. 0.]\n",
      "argmax 7\n",
      "---------------\n",
      "pred (100, 10)\n",
      "q_pred [2.e-02 2.e-05 1.e-03 2.e-01 4.e-05 7.e-01 4.e-04 1.e-03 5.e-03 1.e-03]\n",
      "argmax 5\n",
      "---------------\n",
      "pred (100, 10)\n",
      "q_pred [5.e-01 9.e-05 2.e-01 6.e-03 2.e-02 1.e-03 8.e-02 2.e-03 7.e-03 3.e-02]\n",
      "argmax 0\n",
      "---------------\n",
      "pred (100, 10)\n",
      "q_pred [0. 0. 0. 0. 0. 0. 0. 0. 0. 0.]\n",
      "---------------\n",
      "pred (100, 10)\n",
      "q_pred [9.e-05 9.e-01 2.e-03 3.e-03 2.e-02 2.e-03 4.e-03 9.e-03 8.e-03 1.e-02]\n",
      "argmax 1\n",
      "---------------\n",
      "pred (100, 10)\n",
      "q_pred [0. 0. 0. 0. 0. 0. 0. 0. 0. 0.]\n",
      "---------------\n",
      "pred (100, 10)\n",
      "q_pred [0. 0. 0. 0. 0. 0. 0. 0. 0. 0.]\n",
      "---------------\n",
      "pred (100, 10)\n",
      "q_pred [3.e-01 2.e-04 3.e-03 5.e-03 2.e-03 4.e-01 3.e-02 2.e-02 7.e-02 4.e-02]\n",
      "---------------\n",
      "pred (100, 10)\n",
      "q_pred [0. 1. 0. 0. 0. 0. 0. 0. 0. 0.]\n",
      "argmax 1\n",
      "---------------\n",
      "pred (100, 10)\n",
      "q_pred [0. 0. 0. 0. 1. 0. 0. 0. 0. 0.]\n",
      "argmax 4\n",
      "---------------\n",
      "pred (100, 10)\n",
      "q_pred [0. 0. 0. 0. 0. 0. 0. 0. 0. 0.]\n",
      "---------------\n",
      "pred (100, 10)\n",
      "q_pred [1.e-03 1.e-05 4.e-02 8.e-01 1.e-03 1.e-01 5.e-03 8.e-04 6.e-03 1.e-03]\n",
      "argmax 3\n",
      "---------------\n",
      "pred (100, 10)\n",
      "q_pred [9.e-01 7.e-06 5.e-03 1.e-04 9.e-03 7.e-04 5.e-02 2.e-04 3.e-04 1.e-03]\n",
      "argmax 0\n",
      "---------------\n",
      "pred (100, 10)\n",
      "q_pred [0. 0. 0. 0. 0. 0. 0. 0. 1. 0.]\n",
      "argmax 8\n",
      "---------------\n",
      "pred (100, 10)\n",
      "q_pred [0. 0. 0. 0. 0. 0. 0. 0. 0. 0.]\n",
      "---------------\n",
      "pred (100, 10)\n",
      "q_pred [0. 0. 0. 0. 0. 1. 0. 0. 0. 0.]\n",
      "argmax 5\n",
      "---------------\n",
      "pred (100, 10)\n",
      "q_pred [1.e+00 1.e-04 1.e-03 4.e-03 1.e-04 1.e-03 5.e-04 4.e-03 4.e-03 2.e-03]\n",
      "argmax 0\n",
      "---------------\n",
      "pred (100, 10)\n",
      "q_pred [7.e-03 3.e-04 1.e-01 1.e-01 2.e-04 8.e-02 7.e-02 2.e-04 5.e-01 2.e-03]\n",
      "argmax 8\n",
      "---------------\n",
      "pred (100, 10)\n",
      "q_pred [7.e-03 5.e-06 3.e-03 3.e-04 2.e-03 1.e-02 1.e+00 5.e-05 2.e-03 2.e-03]\n",
      "argmax 6\n",
      "---------------\n",
      "pred (100, 10)\n",
      "q_pred [1.e-02 5.e-06 2.e-02 9.e-01 1.e-04 2.e-02 2.e-04 6.e-03 2.e-02 3.e-03]\n",
      "argmax 3\n",
      "---------------\n",
      "pred (100, 10)\n",
      "q_pred [1.e-03 1.e+00 7.e-04 6.e-04 1.e-02 2.e-03 5.e-03 9.e-03 6.e-03 4.e-03]\n",
      "argmax 1\n",
      "---------------\n",
      "pred (100, 10)\n",
      "q_pred [4.e-03 2.e-04 3.e-03 2.e-02 4.e-02 4.e-02 9.e-04 2.e-02 3.e-02 7.e-01]\n",
      "argmax 9\n",
      "---------------\n",
      "pred (100, 10)\n",
      "q_pred [1.e-01 2.e-05 2.e-01 4.e-02 4.e-02 2.e-02 6.e-02 3.e-03 1.e-01 1.e-01]\n",
      "---------------\n",
      "pred (100, 10)\n",
      "q_pred [7.e-04 3.e-04 8.e-02 8.e-01 1.e-03 5.e-02 2.e-04 7.e-03 6.e-03 1.e-02]\n",
      "argmax 3\n",
      "---------------\n",
      "pred (100, 10)\n",
      "q_pred [0. 1. 0. 0. 0. 0. 0. 0. 0. 0.]\n",
      "argmax 1\n",
      "---------------\n",
      "pred (100, 10)\n",
      "q_pred [5.e-05 7.e-07 4.e-04 5.e-06 5.e-04 2.e-04 1.e+00 2.e-07 9.e-05 3.e-05]\n",
      "argmax 6\n",
      "---------------\n",
      "pred (100, 10)\n",
      "q_pred [1.e-02 4.e-04 1.e-01 1.e-02 4.e-01 5.e-03 5.e-02 1.e-02 3.e-03 2.e-01]\n",
      "---------------\n",
      "pred (100, 10)\n",
      "q_pred [0. 0. 0. 0. 0. 0. 0. 0. 0. 0.]\n",
      "---------------\n",
      "pred (100, 10)\n",
      "q_pred [1.e+00 2.e-05 1.e-03 2.e-03 2.e-05 1.e-02 8.e-04 4.e-05 3.e-03 2.e-05]\n",
      "argmax 0\n",
      "---------------\n",
      "pred (100, 10)\n",
      "q_pred [3.e-01 6.e-06 5.e-03 4.e-01 2.e-05 3.e-01 3.e-04 4.e-03 8.e-04 5.e-04]\n",
      "---------------\n",
      "pred (100, 10)\n",
      "q_pred [3.e-03 5.e-05 8.e-03 1.e-02 4.e-04 8.e-01 2.e-02 5.e-04 1.e-01 2.e-03]\n",
      "argmax 5\n",
      "---------------\n",
      "pred (100, 10)\n",
      "q_pred [9.e-03 4.e-03 8.e-02 3.e-03 4.e-03 2.e-02 8.e-01 3.e-05 7.e-03 2.e-04]\n",
      "argmax 6\n",
      "---------------\n",
      "pred (100, 10)\n",
      "q_pred [1.e-04 3.e-05 1.e-02 9.e-01 4.e-05 1.e-02 6.e-06 2.e-03 2.e-03 2.e-02]\n",
      "argmax 3\n",
      "---------------\n",
      "pred (100, 10)\n",
      "q_pred [3.e-04 4.e-03 3.e-02 7.e-03 8.e-01 7.e-03 8.e-03 7.e-03 2.e-03 1.e-01]\n",
      "argmax 4\n",
      "---------------\n",
      "pred (100, 10)\n",
      "q_pred [0. 0. 0. 1. 0. 0. 0. 0. 0. 0.]\n",
      "argmax 3\n",
      "---------------\n",
      "pred (100, 10)\n",
      "q_pred [2.e-03 9.e-05 3.e-03 5.e-03 9.e-01 2.e-02 1.e-02 5.e-03 5.e-03 2.e-02]\n",
      "argmax 4\n",
      "---------------\n",
      "pred (100, 10)\n",
      "q_pred [6.e-02 2.e-05 5.e-02 2.e-01 9.e-03 2.e-01 5.e-02 4.e-02 2.e-01 2.e-02]\n",
      "---------------\n",
      "pred (100, 10)\n",
      "q_pred [1. 0. 0. 0. 0. 0. 0. 0. 0. 0.]\n",
      "argmax 0\n",
      "---------------\n",
      "pred (100, 10)\n",
      "q_pred [8.e-01 3.e-05 7.e-02 8.e-03 1.e-03 1.e-03 5.e-03 4.e-03 8.e-03 9.e-03]\n",
      "argmax 0\n",
      "---------------\n",
      "pred (100, 10)\n",
      "q_pred [0. 0. 0. 0. 1. 0. 0. 0. 0. 0.]\n",
      "argmax 4\n",
      "---------------\n",
      "pred (100, 10)\n",
      "q_pred [4.e-05 1.e+00 9.e-04 9.e-04 5.e-03 1.e-04 6.e-04 9.e-03 2.e-03 9.e-03]\n",
      "argmax 1\n",
      "---------------\n",
      "pred (100, 10)\n",
      "q_pred [2.e-02 8.e-06 1.e-02 6.e-01 6.e-04 2.e-01 6.e-03 5.e-04 5.e-02 3.e-03]\n",
      "argmax 3\n",
      "---------------\n",
      "pred (100, 10)\n",
      "q_pred [5.e-04 6.e-03 2.e-02 1.e-02 8.e-04 4.e-04 4.e-05 9.e-01 3.e-03 2.e-02]\n",
      "argmax 7\n",
      "---------------\n",
      "pred (100, 10)\n",
      "q_pred [1.e+00 2.e-06 2.e-03 7.e-04 2.e-04 6.e-04 8.e-04 8.e-04 4.e-04 9.e-04]\n",
      "argmax 0\n",
      "---------------\n",
      "pred (100, 10)\n",
      "q_pred [0. 0. 0. 0. 0. 1. 0. 0. 0. 0.]\n",
      "argmax 5\n",
      "---------------\n",
      "pred (100, 10)\n",
      "q_pred [5.e-04 3.e-06 1.e-03 2.e-02 8.e-06 9.e-04 6.e-07 1.e+00 5.e-04 1.e-03]\n",
      "argmax 7\n",
      "---------------\n",
      "pred (100, 10)\n",
      "q_pred [0. 0. 0. 0. 0. 0. 0. 0. 0. 0.]\n",
      "---------------\n",
      "pred (100, 10)\n",
      "q_pred [0. 0. 0. 0. 0. 0. 0. 0. 0. 0.]\n",
      "---------------\n",
      "pred (100, 10)\n",
      "q_pred [0. 0. 0. 0. 0. 0. 0. 0. 0. 0.]\n",
      "---------------\n",
      "pred (100, 10)\n",
      "q_pred [0. 0. 0. 0. 0. 0. 0. 0. 0. 0.]\n",
      "---------------\n",
      "pred (100, 10)\n",
      "q_pred [2.e-03 6.e-04 2.e-01 7.e-01 1.e-03 5.e-02 1.e-02 9.e-03 3.e-03 3.e-03]\n",
      "argmax 3\n",
      "---------------\n",
      "pred (100, 10)\n",
      "q_pred [4.e-05 8.e-06 1.e+00 2.e-02 6.e-06 7.e-05 8.e-05 2.e-04 1.e-03 3.e-05]\n",
      "argmax 2\n",
      "---------------\n",
      "pred (100, 10)\n",
      "q_pred [8.e-01 4.e-06 3.e-03 2.e-02 2.e-05 1.e-01 6.e-03 1.e-04 4.e-03 2.e-04]\n",
      "argmax 0\n",
      "---------------\n",
      "pred (100, 10)\n",
      "q_pred [0. 0. 0. 1. 0. 0. 0. 0. 0. 0.]\n",
      "argmax 3\n",
      "---------------\n",
      "pred (100, 10)\n",
      "q_pred [2.e-02 2.e-04 5.e-02 8.e-03 4.e-03 2.e-01 7.e-01 4.e-05 3.e-02 3.e-03]\n",
      "argmax 6\n",
      "---------------\n",
      "pred (100, 10)\n",
      "q_pred [9.e-04 1.e-03 1.e-01 9.e-01 4.e-05 6.e-03 3.e-04 6.e-03 2.e-03 8.e-04]\n",
      "argmax 3\n",
      "---------------\n",
      "pred (100, 10)\n",
      "q_pred [3.e-02 1.e-04 2.e-01 1.e-01 3.e-02 3.e-01 9.e-02 1.e-02 4.e-03 7.e-02]\n",
      "---------------\n",
      "pred (100, 10)\n",
      "q_pred [1.e-03 8.e-05 9.e-01 5.e-03 7.e-04 3.e-04 5.e-02 3.e-05 8.e-04 4.e-05]\n",
      "argmax 2\n",
      "---------------\n",
      "pred (100, 10)\n",
      "q_pred [2.e-03 5.e-06 2.e-03 9.e-01 5.e-07 9.e-02 4.e-05 3.e-05 1.e-03 6.e-05]\n",
      "argmax 3\n",
      "---------------\n",
      "pred (100, 10)\n",
      "q_pred [2.e-04 9.e-01 1.e-03 6.e-04 3.e-02 6.e-04 2.e-03 3.e-02 1.e-02 2.e-02]\n",
      "argmax 1\n",
      "---------------\n",
      "pred (100, 10)\n",
      "q_pred [4.e-04 8.e-04 7.e-03 2.e-03 9.e-01 2.e-03 1.e-02 1.e-03 8.e-04 2.e-02]\n",
      "argmax 4\n",
      "---------------\n",
      "pred (100, 10)\n",
      "q_pred [2.e-04 2.e-05 2.e-02 9.e-01 3.e-05 2.e-02 4.e-05 3.e-03 3.e-03 1.e-03]\n",
      "argmax 3\n",
      "---------------\n",
      "pred (100, 10)\n",
      "q_pred [2.e-01 3.e-05 9.e-03 2.e-04 4.e-02 3.e-04 7.e-01 2.e-04 2.e-03 2.e-03]\n",
      "argmax 6\n",
      "---------------\n",
      "pred (100, 10)\n",
      "q_pred [2.e-03 2.e-05 1.e-03 1.e-04 9.e-03 6.e-04 1.e+00 1.e-04 2.e-03 2.e-03]\n",
      "argmax 6\n",
      "---------------\n",
      "pred (100, 10)\n",
      "q_pred [3.e-04 2.e-03 2.e-02 3.e-02 6.e-02 4.e-03 4.e-04 2.e-01 7.e-03 6.e-01]\n",
      "argmax 9\n",
      "---------------\n",
      "pred (100, 10)\n",
      "q_pred [0. 0. 0. 0. 0. 0. 0. 0. 0. 0.]\n",
      "---------------\n",
      "pred (100, 10)\n",
      "q_pred [0. 0. 0. 0. 0. 0. 0. 0. 0. 0.]\n",
      "---------------\n",
      "pred (100, 10)\n",
      "q_pred [2.e-04 9.e-05 9.e-01 7.e-02 2.e-04 4.e-04 2.e-03 7.e-03 4.e-03 6.e-04]\n",
      "argmax 2\n",
      "---------------\n",
      "pred (100, 10)\n",
      "q_pred [9.e-03 3.e-04 7.e-01 1.e-01 1.e-03 9.e-02 2.e-02 6.e-03 1.e-02 5.e-03]\n",
      "argmax 2\n",
      "---------------\n",
      "pred (100, 10)\n",
      "q_pred [1.e-03 2.e-05 9.e-03 1.e+00 7.e-06 7.e-03 3.e-04 1.e-03 2.e-03 2.e-04]\n",
      "argmax 3\n",
      "---------------\n",
      "pred (100, 10)\n",
      "q_pred [1.e-03 1.e-04 4.e-02 2.e-01 1.e-04 2.e-02 9.e-05 4.e-01 8.e-02 9.e-02]\n",
      "---------------\n",
      "pred (100, 10)\n",
      "q_pred [4.e-04 1.e-03 1.e-01 7.e-01 9.e-03 3.e-02 3.e-04 5.e-02 7.e-03 3.e-02]\n",
      "argmax 3\n",
      "---------------\n",
      "pred (100, 10)\n",
      "q_pred [3.e-03 9.e-04 9.e-01 3.e-03 5.e-03 2.e-03 1.e-02 6.e-05 9.e-03 6.e-03]\n",
      "argmax 2\n",
      "---------------\n",
      "pred (100, 10)\n",
      "q_pred [2.e-03 2.e-03 2.e-02 1.e-03 3.e-02 1.e-02 9.e-01 3.e-04 4.e-03 2.e-02]\n",
      "argmax 6\n",
      "---------------\n",
      "pred (100, 10)\n",
      "q_pred [3.e-03 2.e-04 8.e-01 5.e-03 3.e-04 3.e-02 2.e-02 3.e-05 1.e-01 8.e-04]\n",
      "argmax 2\n",
      "---------------\n",
      "pred (100, 10)\n",
      "q_pred [2.e-03 2.e-05 1.e-02 1.e-02 2.e-02 7.e-03 2.e-03 4.e-01 7.e-03 5.e-01]\n",
      "argmax 9\n",
      "---------------\n",
      "pred (100, 10)\n",
      "q_pred [0. 0. 0. 0. 0. 0. 0. 0. 0. 0.]\n",
      "---------------\n",
      "pred (100, 10)\n",
      "q_pred [6.e-03 6.e-04 1.e-02 3.e-02 2.e-02 4.e-02 2.e-03 1.e-01 6.e-02 7.e-01]\n",
      "argmax 9\n",
      "---------------\n",
      "pred (100, 10)\n",
      "q_pred [5.e-03 6.e-06 6.e-03 8.e-04 6.e-04 1.e-02 1.e+00 4.e-06 3.e-03 2.e-04]\n",
      "argmax 6\n",
      "---------------\n",
      "pred (100, 10)\n",
      "q_pred [1.e-04 1.e+00 2.e-03 2.e-03 9.e-03 5.e-04 2.e-03 5.e-03 2.e-03 4.e-03]\n",
      "argmax 1\n",
      "---------------\n",
      "pred (100, 10)\n",
      "q_pred [4.e-03 3.e-04 4.e-03 8.e-04 5.e-03 5.e-03 1.e+00 9.e-05 1.e-02 2.e-03]\n",
      "argmax 6\n",
      "---------------\n",
      "pred (100, 10)\n",
      "q_pred [5.e-03 4.e-04 8.e-02 2.e-03 2.e-02 5.e-03 8.e-01 2.e-04 1.e-02 2.e-03]\n",
      "argmax 6\n",
      "---------------\n",
      "pred (100, 10)\n",
      "q_pred [0. 0. 0. 0. 0. 0. 0. 0. 0. 0.]\n",
      "---------------\n",
      "pred (100, 10)\n",
      "q_pred [5.e-04 5.e-02 2.e-03 2.e-03 2.e-02 6.e-02 8.e-01 2.e-04 3.e-02 3.e-03]\n",
      "argmax 6\n"
     ]
    },
    {
     "data": {
      "text/plain": [
       "34"
      ]
     },
     "execution_count": 119,
     "metadata": {},
     "output_type": "execute_result"
    }
   ],
   "source": [
    "### COMPUTE PREDICTIONS WITH THRESHOLD ###\n",
    "\n",
    "count = 0\n",
    "label_bayes, pred_bayes = [], []\n",
    "\n",
    "for pred, label in zip(pred_bayes_dist, label_test):\n",
    "    q_pred = np.quantile(pred, 0.5, axis=0)\n",
    "    #print(pred)\n",
    "    #print( q_pred[0] )\n",
    "    #find the predictions which has more than 0.5 quantile calculated above for any of 100 predictions\n",
    "    #not sure if this is a bit strict\n",
    "    if len([q_p for q_p in q_pred if q_p>0.5])==0:\n",
    "        print(\"---------------\")\n",
    "        print(\"pred\",pred.shape)\n",
    "        print(\"q_pred\",q_pred)\n",
    "        count+=1\n",
    "    else:\n",
    "        pred_bayes.append(map_labels[np.argmax(q_pred)])\n",
    "        print(\"---------------\")\n",
    "        print(\"pred\",pred.shape)\n",
    "        print(\"q_pred\",q_pred)\n",
    "        print(\"argmax\",np.argmax(q_pred))\n",
    "        label_bayes.append(map_labels[label])\n",
    "\n",
    "count # not classificable"
   ]
  },
  {
   "cell_type": "code",
   "execution_count": 34,
   "metadata": {},
   "outputs": [
    {
     "name": "stdout",
     "output_type": "stream",
     "text": [
      "              precision    recall  f1-score   support\n",
      "\n",
      "           0       0.92      0.92      0.92        12\n",
      "           1       1.00      1.00      1.00        10\n",
      "           2       1.00      0.86      0.92         7\n",
      "           3       0.86      0.95      0.90        19\n",
      "           4       1.00      0.90      0.95        10\n",
      "           5       0.67      0.80      0.73         5\n",
      "           6       0.79      0.92      0.85        12\n",
      "           7       1.00      1.00      1.00         5\n",
      "           8       1.00      0.57      0.73         7\n",
      "           9       0.86      0.86      0.86         7\n",
      "\n",
      "    accuracy                           0.89        94\n",
      "   macro avg       0.91      0.88      0.88        94\n",
      "weighted avg       0.90      0.89      0.89        94\n",
      "\n"
     ]
    }
   ],
   "source": [
    "print(classification_report(label_bayes, pred_bayes))"
   ]
  },
  {
   "cell_type": "code",
   "execution_count": null,
   "metadata": {},
   "outputs": [],
   "source": []
  },
  {
   "cell_type": "code",
   "execution_count": null,
   "metadata": {},
   "outputs": [],
   "source": []
  },
  {
   "cell_type": "code",
   "execution_count": null,
   "metadata": {},
   "outputs": [],
   "source": []
  },
  {
   "cell_type": "code",
   "execution_count": 35,
   "metadata": {},
   "outputs": [],
   "source": [
    "#!pip install cv"
   ]
  },
  {
   "cell_type": "code",
   "execution_count": 36,
   "metadata": {},
   "outputs": [
    {
     "data": {
      "image/png": "[encoded data removed]",
      "text/plain": [
       "<Figure size 432x288 with 1 Axes>"
      ]
     },
     "metadata": {
      "needs_background": "light"
     },
     "output_type": "display_data"
    },
    {
     "name": "stdout",
     "output_type": "stream",
     "text": [
      "(28, 28, 3)\n"
     ]
    },
    {
     "data": {
      "image/png": "[encoded data removed]",
      "text/plain": [
       "<Figure size 432x288 with 1 Axes>"
      ]
     },
     "metadata": {
      "needs_background": "light"
     },
     "output_type": "display_data"
    }
   ],
   "source": [
    "gray_img = x_train[0]\n",
    "plt.imshow(x_train[0].reshape(28,28),cmap=\"gray\")\n",
    "plt.show()\n",
    "import cv2\n",
    "import cv\n",
    "\n",
    "#color_img = cv2.cvtColor(gray_img, cv.CV_GRAY2RGB)\n",
    "color_img = cv2.merge([gray_img,gray_img,gray_img])\n",
    "plt.imshow(color_img )\n",
    "print(color_img.shape)"
   ]
  },
  {
   "cell_type": "code",
   "execution_count": 38,
   "metadata": {},
   "outputs": [
    {
     "name": "stdout",
     "output_type": "stream",
     "text": [
      "(3, 1, 28, 28, 3)\n"
     ]
    }
   ],
   "source": [
    "def gen_samples(imgs,per_sample):\n",
    "    generateds = []\n",
    "    aug_iter = datagen.flow(imgs, batch_size=1)\n",
    "    for i in range(per_sample):\n",
    "        image = next(aug_iter)\n",
    "        generateds.append(image)\n",
    "    return generateds\n",
    "\n",
    "gens = gen_samples(np.array([color_img]),3)\n",
    "print(np.array(gens).shape)"
   ]
  },
  {
   "cell_type": "code",
   "execution_count": 39,
   "metadata": {},
   "outputs": [
    {
     "data": {
      "image/png": "[encoded data removed]",
      "text/plain": [
       "<Figure size 1080x1080 with 3 Axes>"
      ]
     },
     "metadata": {
      "needs_background": "light"
     },
     "output_type": "display_data"
    }
   ],
   "source": [
    "img_array = color_img\n",
    "img = img_array.reshape(1,img_array.shape[0],img_array.shape[1],img_array.shape[2])\n",
    "\n",
    "#print(set(img.flatten()))\n",
    "aug_iter = datagen.flow(img, batch_size=1)\n",
    "\n",
    "# generate samples and plot\n",
    "fig, ax = plt.subplots(nrows=1, ncols=3, figsize=(15,15))\n",
    "\n",
    "# generate batch of images\n",
    "for i in range(3):\n",
    "\n",
    "\t# convert to unsigned integers\n",
    "\t#image = next(aug_iter)[0].astype('uint8')\n",
    "\timage = next(aug_iter)\n",
    "\t#print(set(image.flatten()))\n",
    "\t# plot image\n",
    "\t#plt.imshow(image.reshape(28,28,3))\n",
    "\t#plt.show()\n",
    "\tax[i].imshow(image.reshape(28,28,3))\n",
    "\tax[i].axis('off')"
   ]
  },
  {
   "cell_type": "code",
   "execution_count": 40,
   "metadata": {},
   "outputs": [
    {
     "name": "stdout",
     "output_type": "stream",
     "text": [
      "(1, 28, 28, 3)\n",
      "(28, 28)\n"
     ]
    }
   ],
   "source": [
    "image = next(aug_iter)\n",
    "print(image.shape)\n",
    "gray = cv2.cvtColor(image[0], cv2.COLOR_BGR2GRAY)\n",
    "print(gray.shape)"
   ]
  },
  {
   "cell_type": "code",
   "execution_count": null,
   "metadata": {},
   "outputs": [],
   "source": []
  }
 ],
 "metadata": {
  "kernelspec": {
   "display_name": "Python 3",
   "language": "python",
   "name": "python3"
  },
  "language_info": {
   "codemirror_mode": {
    "name": "ipython",
    "version": 3
   },
   "file_extension": ".py",
   "mimetype": "text/x-python",
   "name": "python",
   "nbconvert_exporter": "python",
   "pygments_lexer": "ipython3",
   "version": "3.7.1"
  }
 },
 "nbformat": 4,
 "nbformat_minor": 2
}
